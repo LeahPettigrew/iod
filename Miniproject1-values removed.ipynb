{
 "cells": [
  {
   "cell_type": "code",
   "execution_count": 67,
   "id": "40542a3b-6026-4c7f-857f-0bdc070ce70b",
   "metadata": {},
   "outputs": [],
   "source": [
    "import pandas as pd\n",
    "import numpy as np\n",
    "import math\n",
    "\n",
    "from scipy import stats\n",
    "from matplotlib import pyplot as plt\n",
    "\n",
    "import seaborn as sns\n",
    "sns.set(rc={'figure.figsize': (15, 10)})\n",
    "\n",
    "import pandas as pd\n",
    "pd.set_option(\"display.max_rows\", 120)\n",
    "pd.set_option(\"display.max_columns\", 120)\n",
    "\n",
    "%matplotlib inline"
   ]
  },
  {
   "cell_type": "code",
   "execution_count": 68,
   "id": "6c93c758-d8d5-452d-84b2-3416a03f6492",
   "metadata": {},
   "outputs": [],
   "source": [
    "#Import the main data set\n",
    "POdata=pd.read_csv('testuploadvaluesremoved.csv')"
   ]
  },
  {
   "cell_type": "markdown",
   "id": "d772193d-1544-49ff-bd34-39f42bc6526d",
   "metadata": {},
   "source": [
    "<p style=\"font-family: Arial; font-size:1.4em;color:green;\"> Exploratory Data Analysis  </p>"
   ]
  },
  {
   "cell_type": "code",
   "execution_count": 69,
   "id": "7ac109c4-c28b-49eb-b9cd-404fbe784bf9",
   "metadata": {},
   "outputs": [
    {
     "data": {
      "text/plain": [
       "PO Number                int64\n",
       "Subcategory             object\n",
       "PO Create Date          object\n",
       "Receipted Date          object\n",
       "Rationalised Sender    float64\n",
       "Receiver                object\n",
       "Lane Profile            object\n",
       "Receipted Month          int64\n",
       "Order Type              object\n",
       "Material Number          int64\n",
       "Material Name           object\n",
       "PO $ Amt               float64\n",
       "Qty Receipted BUOM       int64\n",
       "dtype: object"
      ]
     },
     "execution_count": 69,
     "metadata": {},
     "output_type": "execute_result"
    }
   ],
   "source": [
    "#check the data types of each column\n",
    "POdata.dtypes"
   ]
  },
  {
   "cell_type": "code",
   "execution_count": 70,
   "id": "58c867ad-ce24-46dc-8511-4c9d3dce90fb",
   "metadata": {},
   "outputs": [
    {
     "data": {
      "text/html": [
       "<div>\n",
       "<style scoped>\n",
       "    .dataframe tbody tr th:only-of-type {\n",
       "        vertical-align: middle;\n",
       "    }\n",
       "\n",
       "    .dataframe tbody tr th {\n",
       "        vertical-align: top;\n",
       "    }\n",
       "\n",
       "    .dataframe thead th {\n",
       "        text-align: right;\n",
       "    }\n",
       "</style>\n",
       "<table border=\"1\" class=\"dataframe\">\n",
       "  <thead>\n",
       "    <tr style=\"text-align: right;\">\n",
       "      <th></th>\n",
       "      <th>PO Number</th>\n",
       "      <th>Subcategory</th>\n",
       "      <th>PO Create Date</th>\n",
       "      <th>Receipted Date</th>\n",
       "      <th>Rationalised Sender</th>\n",
       "      <th>Receiver</th>\n",
       "      <th>Lane Profile</th>\n",
       "      <th>Receipted Month</th>\n",
       "      <th>Order Type</th>\n",
       "      <th>Material Number</th>\n",
       "      <th>Material Name</th>\n",
       "      <th>PO $ Amt</th>\n",
       "      <th>Qty Receipted BUOM</th>\n",
       "    </tr>\n",
       "  </thead>\n",
       "  <tbody>\n",
       "    <tr>\n",
       "      <th>0</th>\n",
       "      <td>4301826361</td>\n",
       "      <td>Apron</td>\n",
       "      <td>1/12/2021</td>\n",
       "      <td>7/12/2021</td>\n",
       "      <td>NaN</td>\n",
       "      <td>Distribution Centre, South (Ri:Stored offsite</td>\n",
       "      <td>Supplier:SEQDC</td>\n",
       "      <td>202112</td>\n",
       "      <td>A. DC SUPPLY</td>\n",
       "      <td>10015125</td>\n",
       "      <td>Apron:Util:Plas:Ns:Guardian:80x140cm:Wht</td>\n",
       "      <td>NaN</td>\n",
       "      <td>640000</td>\n",
       "    </tr>\n",
       "    <tr>\n",
       "      <th>1</th>\n",
       "      <td>4301886617</td>\n",
       "      <td>Apron</td>\n",
       "      <td>30/12/2021</td>\n",
       "      <td>1/01/1900</td>\n",
       "      <td>NaN</td>\n",
       "      <td>Distribution Centre, South (Ri:Stored offsite</td>\n",
       "      <td>Supplier:SEQDC</td>\n",
       "      <td>190001</td>\n",
       "      <td>A. DC SUPPLY</td>\n",
       "      <td>10015125</td>\n",
       "      <td>Apron:Util:Plas:Ns:Guardian:80x140cm:Wht</td>\n",
       "      <td>NaN</td>\n",
       "      <td>0</td>\n",
       "    </tr>\n",
       "    <tr>\n",
       "      <th>2</th>\n",
       "      <td>4301885516</td>\n",
       "      <td>Apron</td>\n",
       "      <td>30/12/2021</td>\n",
       "      <td>1/01/1900</td>\n",
       "      <td>NaN</td>\n",
       "      <td>Distribution Centre, North (To:Rec. on Dock</td>\n",
       "      <td>Supplier:NQDC</td>\n",
       "      <td>190001</td>\n",
       "      <td>A. DC SUPPLY</td>\n",
       "      <td>10015125</td>\n",
       "      <td>Apron:Util:Plas:Ns:Guardian:80x140cm:Wht</td>\n",
       "      <td>NaN</td>\n",
       "      <td>0</td>\n",
       "    </tr>\n",
       "    <tr>\n",
       "      <th>3</th>\n",
       "      <td>4301943597</td>\n",
       "      <td>Apron</td>\n",
       "      <td>31/01/2022</td>\n",
       "      <td>24/02/2022</td>\n",
       "      <td>NaN</td>\n",
       "      <td>Rural &amp; Community Health: WB:Correctional Cen</td>\n",
       "      <td>Supplier:HHS</td>\n",
       "      <td>202202</td>\n",
       "      <td>C. DIRECT SUPPLY</td>\n",
       "      <td>10015125</td>\n",
       "      <td>Apron:Util:Plas:Ns:Guardian:80x140cm:Wht</td>\n",
       "      <td>NaN</td>\n",
       "      <td>500</td>\n",
       "    </tr>\n",
       "    <tr>\n",
       "      <th>4</th>\n",
       "      <td>4301947250</td>\n",
       "      <td>Apron</td>\n",
       "      <td>2/02/2022</td>\n",
       "      <td>8/02/2022</td>\n",
       "      <td>NaN</td>\n",
       "      <td>Maryborough Hospital:Operational Serv</td>\n",
       "      <td>Supplier:HHS</td>\n",
       "      <td>202202</td>\n",
       "      <td>C. DIRECT SUPPLY</td>\n",
       "      <td>10015125</td>\n",
       "      <td>Apron:Util:Plas:Ns:Guardian:80x140cm:Wht</td>\n",
       "      <td>NaN</td>\n",
       "      <td>500</td>\n",
       "    </tr>\n",
       "  </tbody>\n",
       "</table>\n",
       "</div>"
      ],
      "text/plain": [
       "    PO Number Subcategory PO Create Date Receipted Date  Rationalised Sender  \\\n",
       "0  4301826361       Apron      1/12/2021      7/12/2021                  NaN   \n",
       "1  4301886617       Apron     30/12/2021      1/01/1900                  NaN   \n",
       "2  4301885516       Apron     30/12/2021      1/01/1900                  NaN   \n",
       "3  4301943597       Apron     31/01/2022     24/02/2022                  NaN   \n",
       "4  4301947250       Apron      2/02/2022      8/02/2022                  NaN   \n",
       "\n",
       "                                        Receiver    Lane Profile  \\\n",
       "0  Distribution Centre, South (Ri:Stored offsite  Supplier:SEQDC   \n",
       "1  Distribution Centre, South (Ri:Stored offsite  Supplier:SEQDC   \n",
       "2    Distribution Centre, North (To:Rec. on Dock   Supplier:NQDC   \n",
       "3  Rural & Community Health: WB:Correctional Cen    Supplier:HHS   \n",
       "4          Maryborough Hospital:Operational Serv    Supplier:HHS   \n",
       "\n",
       "   Receipted Month        Order Type  Material Number  \\\n",
       "0           202112      A. DC SUPPLY         10015125   \n",
       "1           190001      A. DC SUPPLY         10015125   \n",
       "2           190001      A. DC SUPPLY         10015125   \n",
       "3           202202  C. DIRECT SUPPLY         10015125   \n",
       "4           202202  C. DIRECT SUPPLY         10015125   \n",
       "\n",
       "                              Material Name  PO $ Amt  Qty Receipted BUOM  \n",
       "0  Apron:Util:Plas:Ns:Guardian:80x140cm:Wht       NaN              640000  \n",
       "1  Apron:Util:Plas:Ns:Guardian:80x140cm:Wht       NaN                   0  \n",
       "2  Apron:Util:Plas:Ns:Guardian:80x140cm:Wht       NaN                   0  \n",
       "3  Apron:Util:Plas:Ns:Guardian:80x140cm:Wht       NaN                 500  \n",
       "4  Apron:Util:Plas:Ns:Guardian:80x140cm:Wht       NaN                 500  "
      ]
     },
     "execution_count": 70,
     "metadata": {},
     "output_type": "execute_result"
    }
   ],
   "source": [
    "#view the first 5 rows\n",
    "POdata.head()"
   ]
  },
  {
   "cell_type": "code",
   "execution_count": 71,
   "id": "79e4936f-cb70-49a0-9668-07409aafc9f2",
   "metadata": {},
   "outputs": [],
   "source": [
    "#remove unecessary features (PO Create date, Receipted Month, Material Name, Receipted Date\n",
    "POdata = POdata.drop('PO Create Date', axis=1)\n",
    "POdata = POdata.drop('Receipted Month', axis=1)\n",
    "POdata = POdata.drop('Material Name', axis=1)\n",
    "POdata = POdata.drop('Receipted Date', axis=1)\n",
    "POdata = POdata.drop('Rationalised Sender', axis=1)\n",
    "POdata = POdata.drop('PO $ Amt', axis=1)"
   ]
  },
  {
   "cell_type": "code",
   "execution_count": 72,
   "id": "6947e574-7117-489c-8ff4-c60351fb2b0c",
   "metadata": {},
   "outputs": [
    {
     "data": {
      "text/html": [
       "<div>\n",
       "<style scoped>\n",
       "    .dataframe tbody tr th:only-of-type {\n",
       "        vertical-align: middle;\n",
       "    }\n",
       "\n",
       "    .dataframe tbody tr th {\n",
       "        vertical-align: top;\n",
       "    }\n",
       "\n",
       "    .dataframe thead th {\n",
       "        text-align: right;\n",
       "    }\n",
       "</style>\n",
       "<table border=\"1\" class=\"dataframe\">\n",
       "  <thead>\n",
       "    <tr style=\"text-align: right;\">\n",
       "      <th></th>\n",
       "      <th>PO Number</th>\n",
       "      <th>Subcategory</th>\n",
       "      <th>Receiver</th>\n",
       "      <th>Lane Profile</th>\n",
       "      <th>Order Type</th>\n",
       "      <th>Material Number</th>\n",
       "      <th>Qty Receipted BUOM</th>\n",
       "    </tr>\n",
       "  </thead>\n",
       "  <tbody>\n",
       "    <tr>\n",
       "      <th>0</th>\n",
       "      <td>4301826361</td>\n",
       "      <td>Apron</td>\n",
       "      <td>Distribution Centre, South (Ri:Stored offsite</td>\n",
       "      <td>Supplier:SEQDC</td>\n",
       "      <td>A. DC SUPPLY</td>\n",
       "      <td>10015125</td>\n",
       "      <td>640000</td>\n",
       "    </tr>\n",
       "    <tr>\n",
       "      <th>1</th>\n",
       "      <td>4301886617</td>\n",
       "      <td>Apron</td>\n",
       "      <td>Distribution Centre, South (Ri:Stored offsite</td>\n",
       "      <td>Supplier:SEQDC</td>\n",
       "      <td>A. DC SUPPLY</td>\n",
       "      <td>10015125</td>\n",
       "      <td>0</td>\n",
       "    </tr>\n",
       "    <tr>\n",
       "      <th>2</th>\n",
       "      <td>4301885516</td>\n",
       "      <td>Apron</td>\n",
       "      <td>Distribution Centre, North (To:Rec. on Dock</td>\n",
       "      <td>Supplier:NQDC</td>\n",
       "      <td>A. DC SUPPLY</td>\n",
       "      <td>10015125</td>\n",
       "      <td>0</td>\n",
       "    </tr>\n",
       "    <tr>\n",
       "      <th>3</th>\n",
       "      <td>4301943597</td>\n",
       "      <td>Apron</td>\n",
       "      <td>Rural &amp; Community Health: WB:Correctional Cen</td>\n",
       "      <td>Supplier:HHS</td>\n",
       "      <td>C. DIRECT SUPPLY</td>\n",
       "      <td>10015125</td>\n",
       "      <td>500</td>\n",
       "    </tr>\n",
       "    <tr>\n",
       "      <th>4</th>\n",
       "      <td>4301947250</td>\n",
       "      <td>Apron</td>\n",
       "      <td>Maryborough Hospital:Operational Serv</td>\n",
       "      <td>Supplier:HHS</td>\n",
       "      <td>C. DIRECT SUPPLY</td>\n",
       "      <td>10015125</td>\n",
       "      <td>500</td>\n",
       "    </tr>\n",
       "  </tbody>\n",
       "</table>\n",
       "</div>"
      ],
      "text/plain": [
       "    PO Number Subcategory                                       Receiver  \\\n",
       "0  4301826361       Apron  Distribution Centre, South (Ri:Stored offsite   \n",
       "1  4301886617       Apron  Distribution Centre, South (Ri:Stored offsite   \n",
       "2  4301885516       Apron    Distribution Centre, North (To:Rec. on Dock   \n",
       "3  4301943597       Apron  Rural & Community Health: WB:Correctional Cen   \n",
       "4  4301947250       Apron          Maryborough Hospital:Operational Serv   \n",
       "\n",
       "     Lane Profile        Order Type  Material Number  Qty Receipted BUOM  \n",
       "0  Supplier:SEQDC      A. DC SUPPLY         10015125              640000  \n",
       "1  Supplier:SEQDC      A. DC SUPPLY         10015125                   0  \n",
       "2   Supplier:NQDC      A. DC SUPPLY         10015125                   0  \n",
       "3    Supplier:HHS  C. DIRECT SUPPLY         10015125                 500  \n",
       "4    Supplier:HHS  C. DIRECT SUPPLY         10015125                 500  "
      ]
     },
     "execution_count": 72,
     "metadata": {},
     "output_type": "execute_result"
    }
   ],
   "source": [
    "#check the data now looks as expected\n",
    "POdata.head()"
   ]
  },
  {
   "cell_type": "code",
   "execution_count": 73,
   "id": "d33439f2-7b19-40d7-bb8a-e7d493d4df88",
   "metadata": {},
   "outputs": [
    {
     "data": {
      "text/html": [
       "<div>\n",
       "<style scoped>\n",
       "    .dataframe tbody tr th:only-of-type {\n",
       "        vertical-align: middle;\n",
       "    }\n",
       "\n",
       "    .dataframe tbody tr th {\n",
       "        vertical-align: top;\n",
       "    }\n",
       "\n",
       "    .dataframe thead th {\n",
       "        text-align: right;\n",
       "    }\n",
       "</style>\n",
       "<table border=\"1\" class=\"dataframe\">\n",
       "  <thead>\n",
       "    <tr style=\"text-align: right;\">\n",
       "      <th></th>\n",
       "      <th>PO Number</th>\n",
       "      <th>Subcategory</th>\n",
       "      <th>Receiver</th>\n",
       "      <th>Lane Profile</th>\n",
       "      <th>Order Type</th>\n",
       "      <th>Material Number</th>\n",
       "      <th>Qty Receipted BUOM</th>\n",
       "    </tr>\n",
       "  </thead>\n",
       "  <tbody>\n",
       "    <tr>\n",
       "      <th>117361</th>\n",
       "      <td>81581648</td>\n",
       "      <td>Thumb-up_Apron</td>\n",
       "      <td>A978 QAS Station - Wynnum</td>\n",
       "      <td>SEQDC:QAS</td>\n",
       "      <td>I. DEMAND QAS</td>\n",
       "      <td>10041523</td>\n",
       "      <td>150</td>\n",
       "    </tr>\n",
       "    <tr>\n",
       "      <th>117362</th>\n",
       "      <td>81581648</td>\n",
       "      <td>Thumb-up_Apron</td>\n",
       "      <td>A978 QAS Station - Wynnum</td>\n",
       "      <td>SEQDC:QAS</td>\n",
       "      <td>I. DEMAND QAS</td>\n",
       "      <td>10024168</td>\n",
       "      <td>150</td>\n",
       "    </tr>\n",
       "    <tr>\n",
       "      <th>117363</th>\n",
       "      <td>81583103</td>\n",
       "      <td>Thumb-up_Apron</td>\n",
       "      <td>AQ901 QAS - QCESA - Para Education</td>\n",
       "      <td>SEQDC:QAS</td>\n",
       "      <td>I. DEMAND QAS</td>\n",
       "      <td>10041523</td>\n",
       "      <td>75</td>\n",
       "    </tr>\n",
       "    <tr>\n",
       "      <th>117364</th>\n",
       "      <td>81579977</td>\n",
       "      <td>Thumb-up_Apron</td>\n",
       "      <td>A824 QAS Station - Samford</td>\n",
       "      <td>SEQDC:QAS</td>\n",
       "      <td>I. DEMAND QAS</td>\n",
       "      <td>10041523</td>\n",
       "      <td>60</td>\n",
       "    </tr>\n",
       "    <tr>\n",
       "      <th>117365</th>\n",
       "      <td>1000519903</td>\n",
       "      <td>Thumb-up_Apron</td>\n",
       "      <td>A863 QAS Station - Sthport</td>\n",
       "      <td>SEQDC:QAS</td>\n",
       "      <td>I. DEMAND QAS</td>\n",
       "      <td>10041523</td>\n",
       "      <td>150</td>\n",
       "    </tr>\n",
       "  </tbody>\n",
       "</table>\n",
       "</div>"
      ],
      "text/plain": [
       "         PO Number     Subcategory                            Receiver  \\\n",
       "117361    81581648  Thumb-up_Apron           A978 QAS Station - Wynnum   \n",
       "117362    81581648  Thumb-up_Apron           A978 QAS Station - Wynnum   \n",
       "117363    81583103  Thumb-up_Apron  AQ901 QAS - QCESA - Para Education   \n",
       "117364    81579977  Thumb-up_Apron          A824 QAS Station - Samford   \n",
       "117365  1000519903  Thumb-up_Apron          A863 QAS Station - Sthport   \n",
       "\n",
       "       Lane Profile     Order Type  Material Number  Qty Receipted BUOM  \n",
       "117361    SEQDC:QAS  I. DEMAND QAS         10041523                 150  \n",
       "117362    SEQDC:QAS  I. DEMAND QAS         10024168                 150  \n",
       "117363    SEQDC:QAS  I. DEMAND QAS         10041523                  75  \n",
       "117364    SEQDC:QAS  I. DEMAND QAS         10041523                  60  \n",
       "117365    SEQDC:QAS  I. DEMAND QAS         10041523                 150  "
      ]
     },
     "execution_count": 73,
     "metadata": {},
     "output_type": "execute_result"
    }
   ],
   "source": [
    "#View the last 5 rows\n",
    "POdata.tail()"
   ]
  },
  {
   "cell_type": "code",
   "execution_count": 74,
   "id": "712b7c64-6a2b-4fd6-8fdf-e9e89f49e27f",
   "metadata": {},
   "outputs": [],
   "source": [
    "#Rename the column Qty Receipted BUOM to have no spaces\n",
    "POdata.rename(columns={'Qty Receipted BUOM': 'Qty_Receipted_BUOM'}, inplace=True)"
   ]
  },
  {
   "cell_type": "code",
   "execution_count": 75,
   "id": "32e6eecd-cfbe-4e44-87c4-f18b06c8b6db",
   "metadata": {},
   "outputs": [],
   "source": [
    "#rename the column Order Type to have no spaces\n",
    "POdata.rename(columns={'Order Type': 'Order_Type'}, inplace=True)"
   ]
  },
  {
   "cell_type": "code",
   "execution_count": 76,
   "id": "813e5737-7e0c-4d8a-9b6e-8af977b09aca",
   "metadata": {},
   "outputs": [],
   "source": [
    "#rename the column Order Type to have no spaces\n",
    "POdata.rename(columns={'Lane Profile': 'Receiver_Lane'}, inplace=True)"
   ]
  },
  {
   "cell_type": "markdown",
   "id": "83e651fa-a2bc-459c-950e-e6709c10bb3c",
   "metadata": {},
   "source": [
    "<p style=\"font-family: Arial; font-size:1.4em;color:green;\"> Normalise the Data  </p>"
   ]
  },
  {
   "cell_type": "code",
   "execution_count": 77,
   "id": "a2059519-b5b1-4ec3-a2b5-191347690be4",
   "metadata": {},
   "outputs": [],
   "source": [
    "# Create a mask to find all rows with 0\n",
    "mask = POdata['Qty_Receipted_BUOM'] == 0\n",
    "POdata.loc[mask, 'Qty_Receipted_BUOM'] = np.NaN"
   ]
  },
  {
   "cell_type": "code",
   "execution_count": 78,
   "id": "83a51f38-0bb3-410e-8148-59d3635c38ad",
   "metadata": {},
   "outputs": [
    {
     "data": {
      "text/html": [
       "<div>\n",
       "<style scoped>\n",
       "    .dataframe tbody tr th:only-of-type {\n",
       "        vertical-align: middle;\n",
       "    }\n",
       "\n",
       "    .dataframe tbody tr th {\n",
       "        vertical-align: top;\n",
       "    }\n",
       "\n",
       "    .dataframe thead th {\n",
       "        text-align: right;\n",
       "    }\n",
       "</style>\n",
       "<table border=\"1\" class=\"dataframe\">\n",
       "  <thead>\n",
       "    <tr style=\"text-align: right;\">\n",
       "      <th></th>\n",
       "      <th>PO Number</th>\n",
       "      <th>Subcategory</th>\n",
       "      <th>Receiver</th>\n",
       "      <th>Receiver_Lane</th>\n",
       "      <th>Order_Type</th>\n",
       "      <th>Material Number</th>\n",
       "      <th>Qty_Receipted_BUOM</th>\n",
       "    </tr>\n",
       "  </thead>\n",
       "  <tbody>\n",
       "    <tr>\n",
       "      <th>0</th>\n",
       "      <td>4301826361</td>\n",
       "      <td>Apron</td>\n",
       "      <td>Distribution Centre, South (Ri:Stored offsite</td>\n",
       "      <td>Supplier:SEQDC</td>\n",
       "      <td>A. DC SUPPLY</td>\n",
       "      <td>10015125</td>\n",
       "      <td>640000.0</td>\n",
       "    </tr>\n",
       "    <tr>\n",
       "      <th>1</th>\n",
       "      <td>4301886617</td>\n",
       "      <td>Apron</td>\n",
       "      <td>Distribution Centre, South (Ri:Stored offsite</td>\n",
       "      <td>Supplier:SEQDC</td>\n",
       "      <td>A. DC SUPPLY</td>\n",
       "      <td>10015125</td>\n",
       "      <td>NaN</td>\n",
       "    </tr>\n",
       "  </tbody>\n",
       "</table>\n",
       "</div>"
      ],
      "text/plain": [
       "    PO Number Subcategory                                       Receiver  \\\n",
       "0  4301826361       Apron  Distribution Centre, South (Ri:Stored offsite   \n",
       "1  4301886617       Apron  Distribution Centre, South (Ri:Stored offsite   \n",
       "\n",
       "    Receiver_Lane    Order_Type  Material Number  Qty_Receipted_BUOM  \n",
       "0  Supplier:SEQDC  A. DC SUPPLY         10015125            640000.0  \n",
       "1  Supplier:SEQDC  A. DC SUPPLY         10015125                 NaN  "
      ]
     },
     "execution_count": 78,
     "metadata": {},
     "output_type": "execute_result"
    }
   ],
   "source": [
    "#check that there are now NaN values in Qty_receipted_BUOM columns\n",
    "POdata.head(2)"
   ]
  },
  {
   "cell_type": "code",
   "execution_count": 79,
   "id": "ed3cd4f6-91ba-4d96-a6a8-538981cc7725",
   "metadata": {},
   "outputs": [
    {
     "data": {
      "text/plain": [
       "PO Number                0\n",
       "Subcategory              0\n",
       "Receiver                 0\n",
       "Receiver_Lane            0\n",
       "Order_Type               0\n",
       "Material Number          0\n",
       "Qty_Receipted_BUOM    3676\n",
       "dtype: int64"
      ]
     },
     "execution_count": 79,
     "metadata": {},
     "output_type": "execute_result"
    }
   ],
   "source": [
    "#count the NaN values - there should now be some\n",
    "POdata.isnull().sum()"
   ]
  },
  {
   "cell_type": "code",
   "execution_count": 80,
   "id": "78301738-e059-4d91-b056-a1dfcbee40c2",
   "metadata": {},
   "outputs": [],
   "source": [
    "#remove NaN using dropna\n",
    "POdata.dropna(how='any', inplace=True)"
   ]
  },
  {
   "cell_type": "code",
   "execution_count": 81,
   "id": "254643e8-0083-44cd-b133-6916cba844eb",
   "metadata": {},
   "outputs": [
    {
     "data": {
      "text/plain": [
       "PO Number             0\n",
       "Subcategory           0\n",
       "Receiver              0\n",
       "Receiver_Lane         0\n",
       "Order_Type            0\n",
       "Material Number       0\n",
       "Qty_Receipted_BUOM    0\n",
       "dtype: int64"
      ]
     },
     "execution_count": 81,
     "metadata": {},
     "output_type": "execute_result"
    }
   ],
   "source": [
    "#check there are no longer any nan values\n",
    "POdata.isnull().sum()"
   ]
  },
  {
   "cell_type": "code",
   "execution_count": 82,
   "id": "edd11907-0d30-4835-9c75-a17756109e22",
   "metadata": {},
   "outputs": [
    {
     "data": {
      "text/plain": [
       "PO Number               int64\n",
       "Subcategory            object\n",
       "Receiver               object\n",
       "Receiver_Lane          object\n",
       "Order_Type             object\n",
       "Material Number         int64\n",
       "Qty_Receipted_BUOM    float64\n",
       "dtype: object"
      ]
     },
     "execution_count": 82,
     "metadata": {},
     "output_type": "execute_result"
    }
   ],
   "source": [
    "#view the data types\n",
    "POdata.dtypes"
   ]
  },
  {
   "cell_type": "markdown",
   "id": "bb796985-2111-4af9-9072-48a6fc923e1b",
   "metadata": {},
   "source": [
    "Data types are as expected\n",
    "PO number and Material Number are integers\n",
    "qty receipted and PO $ Amt are both Floats\n",
    "The rest are objects "
   ]
  },
  {
   "cell_type": "code",
   "execution_count": 83,
   "id": "05feb93f-40ec-476a-a947-696de9eb17fd",
   "metadata": {},
   "outputs": [],
   "source": [
    "# Create a boolean column that is True for rows where there is a CSR item\n",
    "POdata['Not_CSR_Item'] = POdata['Subcategory'].isin(['Not_in_CSR'])"
   ]
  },
  {
   "cell_type": "code",
   "execution_count": 84,
   "id": "8dc777fd-0370-42b4-9a01-81ec3208c3da",
   "metadata": {},
   "outputs": [],
   "source": [
    "# Create a boolean column that is True for rows where there is direct purchasing\n",
    "POdata['Direct_Purchasing'] = POdata['Order_Type'].isin(['C. DIRECT SUPPLY'])"
   ]
  },
  {
   "cell_type": "code",
   "execution_count": 85,
   "id": "ec50b1cd-7fee-4a56-98fe-a4079b335efa",
   "metadata": {},
   "outputs": [
    {
     "data": {
      "text/html": [
       "<div>\n",
       "<style scoped>\n",
       "    .dataframe tbody tr th:only-of-type {\n",
       "        vertical-align: middle;\n",
       "    }\n",
       "\n",
       "    .dataframe tbody tr th {\n",
       "        vertical-align: top;\n",
       "    }\n",
       "\n",
       "    .dataframe thead th {\n",
       "        text-align: right;\n",
       "    }\n",
       "</style>\n",
       "<table border=\"1\" class=\"dataframe\">\n",
       "  <thead>\n",
       "    <tr style=\"text-align: right;\">\n",
       "      <th></th>\n",
       "      <th>PO Number</th>\n",
       "      <th>Subcategory</th>\n",
       "      <th>Receiver</th>\n",
       "      <th>Receiver_Lane</th>\n",
       "      <th>Order_Type</th>\n",
       "      <th>Material Number</th>\n",
       "      <th>Qty_Receipted_BUOM</th>\n",
       "      <th>Not_CSR_Item</th>\n",
       "      <th>Direct_Purchasing</th>\n",
       "    </tr>\n",
       "  </thead>\n",
       "  <tbody>\n",
       "    <tr>\n",
       "      <th>0</th>\n",
       "      <td>4301826361</td>\n",
       "      <td>Apron</td>\n",
       "      <td>Distribution Centre, South (Ri:Stored offsite</td>\n",
       "      <td>Supplier:SEQDC</td>\n",
       "      <td>A. DC SUPPLY</td>\n",
       "      <td>10015125</td>\n",
       "      <td>640000.0</td>\n",
       "      <td>False</td>\n",
       "      <td>False</td>\n",
       "    </tr>\n",
       "    <tr>\n",
       "      <th>3</th>\n",
       "      <td>4301943597</td>\n",
       "      <td>Apron</td>\n",
       "      <td>Rural &amp; Community Health: WB:Correctional Cen</td>\n",
       "      <td>Supplier:HHS</td>\n",
       "      <td>C. DIRECT SUPPLY</td>\n",
       "      <td>10015125</td>\n",
       "      <td>500.0</td>\n",
       "      <td>False</td>\n",
       "      <td>True</td>\n",
       "    </tr>\n",
       "    <tr>\n",
       "      <th>4</th>\n",
       "      <td>4301947250</td>\n",
       "      <td>Apron</td>\n",
       "      <td>Maryborough Hospital:Operational Serv</td>\n",
       "      <td>Supplier:HHS</td>\n",
       "      <td>C. DIRECT SUPPLY</td>\n",
       "      <td>10015125</td>\n",
       "      <td>500.0</td>\n",
       "      <td>False</td>\n",
       "      <td>True</td>\n",
       "    </tr>\n",
       "    <tr>\n",
       "      <th>5</th>\n",
       "      <td>4301958897</td>\n",
       "      <td>Apron</td>\n",
       "      <td>Rural &amp; Community Health: TV:Main Store</td>\n",
       "      <td>Supplier:HHS</td>\n",
       "      <td>C. DIRECT SUPPLY</td>\n",
       "      <td>10015125</td>\n",
       "      <td>500.0</td>\n",
       "      <td>False</td>\n",
       "      <td>True</td>\n",
       "    </tr>\n",
       "    <tr>\n",
       "      <th>6</th>\n",
       "      <td>4302023811</td>\n",
       "      <td>Apron</td>\n",
       "      <td>Pathology Qld:Logan Path Store</td>\n",
       "      <td>Supplier:PATH</td>\n",
       "      <td>C. DIRECT SUPPLY</td>\n",
       "      <td>10015125</td>\n",
       "      <td>1000.0</td>\n",
       "      <td>False</td>\n",
       "      <td>True</td>\n",
       "    </tr>\n",
       "  </tbody>\n",
       "</table>\n",
       "</div>"
      ],
      "text/plain": [
       "    PO Number Subcategory                                       Receiver  \\\n",
       "0  4301826361       Apron  Distribution Centre, South (Ri:Stored offsite   \n",
       "3  4301943597       Apron  Rural & Community Health: WB:Correctional Cen   \n",
       "4  4301947250       Apron          Maryborough Hospital:Operational Serv   \n",
       "5  4301958897       Apron        Rural & Community Health: TV:Main Store   \n",
       "6  4302023811       Apron                 Pathology Qld:Logan Path Store   \n",
       "\n",
       "    Receiver_Lane        Order_Type  Material Number  Qty_Receipted_BUOM  \\\n",
       "0  Supplier:SEQDC      A. DC SUPPLY         10015125            640000.0   \n",
       "3    Supplier:HHS  C. DIRECT SUPPLY         10015125               500.0   \n",
       "4    Supplier:HHS  C. DIRECT SUPPLY         10015125               500.0   \n",
       "5    Supplier:HHS  C. DIRECT SUPPLY         10015125               500.0   \n",
       "6   Supplier:PATH  C. DIRECT SUPPLY         10015125              1000.0   \n",
       "\n",
       "   Not_CSR_Item  Direct_Purchasing  \n",
       "0         False              False  \n",
       "3         False               True  \n",
       "4         False               True  \n",
       "5         False               True  \n",
       "6         False               True  "
      ]
     },
     "execution_count": 85,
     "metadata": {},
     "output_type": "execute_result"
    }
   ],
   "source": [
    "#view the header to make sure it's worked as expected\n",
    "POdata.head()"
   ]
  },
  {
   "cell_type": "code",
   "execution_count": 86,
   "id": "1b5432dc-be9d-4298-87ad-ed717b347e2f",
   "metadata": {},
   "outputs": [
    {
     "data": {
      "text/html": [
       "<div>\n",
       "<style scoped>\n",
       "    .dataframe tbody tr th:only-of-type {\n",
       "        vertical-align: middle;\n",
       "    }\n",
       "\n",
       "    .dataframe tbody tr th {\n",
       "        vertical-align: top;\n",
       "    }\n",
       "\n",
       "    .dataframe thead th {\n",
       "        text-align: right;\n",
       "    }\n",
       "</style>\n",
       "<table border=\"1\" class=\"dataframe\">\n",
       "  <thead>\n",
       "    <tr style=\"text-align: right;\">\n",
       "      <th></th>\n",
       "      <th>PO Number</th>\n",
       "      <th>Subcategory</th>\n",
       "      <th>Receiver</th>\n",
       "      <th>Receiver_Lane</th>\n",
       "      <th>Order_Type</th>\n",
       "      <th>Material Number</th>\n",
       "      <th>Qty_Receipted_BUOM</th>\n",
       "      <th>Not_CSR_Item</th>\n",
       "      <th>Direct_Purchasing</th>\n",
       "    </tr>\n",
       "  </thead>\n",
       "  <tbody>\n",
       "    <tr>\n",
       "      <th>72772</th>\n",
       "      <td>4301908985</td>\n",
       "      <td>Surgical_Respirator_P2/N95</td>\n",
       "      <td>Distribution Centre, South (Ri:Stored offsite</td>\n",
       "      <td>Supplier:SEQDC</td>\n",
       "      <td>A. DC SUPPLY</td>\n",
       "      <td>10038088</td>\n",
       "      <td>4939920.0</td>\n",
       "      <td>False</td>\n",
       "      <td>False</td>\n",
       "    </tr>\n",
       "    <tr>\n",
       "      <th>27768</th>\n",
       "      <td>4301888487</td>\n",
       "      <td>Not_in_CSR</td>\n",
       "      <td>Distribution Centre, South (Ri:Rec. on Dock</td>\n",
       "      <td>Supplier:SEQDC</td>\n",
       "      <td>A. DC SUPPLY</td>\n",
       "      <td>10430874</td>\n",
       "      <td>4614754.0</td>\n",
       "      <td>True</td>\n",
       "      <td>False</td>\n",
       "    </tr>\n",
       "    <tr>\n",
       "      <th>48177</th>\n",
       "      <td>4302574839</td>\n",
       "      <td>Surgical_Mask_L2</td>\n",
       "      <td>Distribution Centre, South (Ri:Rec. on Dock</td>\n",
       "      <td>Supplier:SEQDC</td>\n",
       "      <td>A. DC SUPPLY</td>\n",
       "      <td>10402182</td>\n",
       "      <td>2784000.0</td>\n",
       "      <td>False</td>\n",
       "      <td>False</td>\n",
       "    </tr>\n",
       "    <tr>\n",
       "      <th>72779</th>\n",
       "      <td>4301911841</td>\n",
       "      <td>Surgical_Respirator_P2/N95</td>\n",
       "      <td>Distribution Centre, South (Ri:Stored offsite</td>\n",
       "      <td>Supplier:SEQDC</td>\n",
       "      <td>A. DC SUPPLY</td>\n",
       "      <td>10063756</td>\n",
       "      <td>2592240.0</td>\n",
       "      <td>False</td>\n",
       "      <td>False</td>\n",
       "    </tr>\n",
       "    <tr>\n",
       "      <th>27799</th>\n",
       "      <td>4301907001</td>\n",
       "      <td>Not_in_CSR</td>\n",
       "      <td>Distribution Centre, South (Ri:Rec. on Dock</td>\n",
       "      <td>Supplier:SEQDC</td>\n",
       "      <td>A. DC SUPPLY</td>\n",
       "      <td>10430873</td>\n",
       "      <td>2000100.0</td>\n",
       "      <td>True</td>\n",
       "      <td>False</td>\n",
       "    </tr>\n",
       "  </tbody>\n",
       "</table>\n",
       "</div>"
      ],
      "text/plain": [
       "        PO Number                 Subcategory  \\\n",
       "72772  4301908985  Surgical_Respirator_P2/N95   \n",
       "27768  4301888487                  Not_in_CSR   \n",
       "48177  4302574839            Surgical_Mask_L2   \n",
       "72779  4301911841  Surgical_Respirator_P2/N95   \n",
       "27799  4301907001                  Not_in_CSR   \n",
       "\n",
       "                                            Receiver   Receiver_Lane  \\\n",
       "72772  Distribution Centre, South (Ri:Stored offsite  Supplier:SEQDC   \n",
       "27768    Distribution Centre, South (Ri:Rec. on Dock  Supplier:SEQDC   \n",
       "48177    Distribution Centre, South (Ri:Rec. on Dock  Supplier:SEQDC   \n",
       "72779  Distribution Centre, South (Ri:Stored offsite  Supplier:SEQDC   \n",
       "27799    Distribution Centre, South (Ri:Rec. on Dock  Supplier:SEQDC   \n",
       "\n",
       "         Order_Type  Material Number  Qty_Receipted_BUOM  Not_CSR_Item  \\\n",
       "72772  A. DC SUPPLY         10038088           4939920.0         False   \n",
       "27768  A. DC SUPPLY         10430874           4614754.0          True   \n",
       "48177  A. DC SUPPLY         10402182           2784000.0         False   \n",
       "72779  A. DC SUPPLY         10063756           2592240.0         False   \n",
       "27799  A. DC SUPPLY         10430873           2000100.0          True   \n",
       "\n",
       "       Direct_Purchasing  \n",
       "72772              False  \n",
       "27768              False  \n",
       "48177              False  \n",
       "72779              False  \n",
       "27799              False  "
      ]
     },
     "execution_count": 86,
     "metadata": {},
     "output_type": "execute_result"
    }
   ],
   "source": [
    "#sort by Qty Receipted\n",
    "POdata.sort_values(by=\"Qty_Receipted_BUOM\", ascending=False).head()"
   ]
  },
  {
   "cell_type": "code",
   "execution_count": 87,
   "id": "7e209276-322f-451d-bb3b-e1b9ad345fb3",
   "metadata": {},
   "outputs": [
    {
     "data": {
      "text/plain": [
       "300.0"
      ]
     },
     "execution_count": 87,
     "metadata": {},
     "output_type": "execute_result"
    }
   ],
   "source": [
    "#median of general purchases qty received\n",
    "POdata[POdata.Not_CSR_Item ==True].Qty_Receipted_BUOM.median()"
   ]
  },
  {
   "cell_type": "code",
   "execution_count": 88,
   "id": "a45773c3-4e89-4465-bb79-86815a2c7fbc",
   "metadata": {},
   "outputs": [
    {
     "name": "stdout",
     "output_type": "stream",
     "text": [
      "<class 'pandas.core.frame.DataFrame'>\n",
      "Int64Index: 113690 entries, 0 to 117365\n",
      "Data columns (total 9 columns):\n",
      " #   Column              Non-Null Count   Dtype  \n",
      "---  ------              --------------   -----  \n",
      " 0   PO Number           113690 non-null  int64  \n",
      " 1   Subcategory         113690 non-null  object \n",
      " 2   Receiver            113690 non-null  object \n",
      " 3   Receiver_Lane       113690 non-null  object \n",
      " 4   Order_Type          113690 non-null  object \n",
      " 5   Material Number     113690 non-null  int64  \n",
      " 6   Qty_Receipted_BUOM  113690 non-null  float64\n",
      " 7   Not_CSR_Item        113690 non-null  bool   \n",
      " 8   Direct_Purchasing   113690 non-null  bool   \n",
      "dtypes: bool(2), float64(1), int64(2), object(4)\n",
      "memory usage: 7.2+ MB\n"
     ]
    }
   ],
   "source": [
    "#view the info of the POdata table \n",
    "POdata.info()"
   ]
  },
  {
   "cell_type": "code",
   "execution_count": 89,
   "id": "e4c4a3ae-09cc-4038-bbe2-6c084f269efc",
   "metadata": {},
   "outputs": [
    {
     "data": {
      "text/plain": [
       "(113690, 9)"
      ]
     },
     "execution_count": 89,
     "metadata": {},
     "output_type": "execute_result"
    }
   ],
   "source": [
    "#number of rows before removing outliers\n",
    "POdata.shape"
   ]
  },
  {
   "cell_type": "code",
   "execution_count": 90,
   "id": "84aebca4-17d9-4343-868b-39ca27237e2f",
   "metadata": {},
   "outputs": [],
   "source": [
    "#Separate the Data into direct and non direct purchasing\n",
    "NonDirect = POdata[POdata['Order_Type'] != 'C. DIRECT SUPPLY']\n",
    "Direct = POdata[POdata['Order_Type'] == 'C. DIRECT SUPPLY']"
   ]
  },
  {
   "cell_type": "code",
   "execution_count": 91,
   "id": "722d6011-e63c-497c-9c2c-48ff29694c57",
   "metadata": {},
   "outputs": [
    {
     "data": {
      "image/png": "[encoded data removed]",
      "text/plain": [
       "<Figure size 1500x1000 with 1 Axes>"
      ]
     },
     "metadata": {},
     "output_type": "display_data"
    }
   ],
   "source": [
    "plt.boxplot((Direct['Qty_Receipted_BUOM'], NonDirect['Qty_Receipted_BUOM']), labels=['Direct', 'Non Direct']);\n",
    "\n"
   ]
  },
  {
   "cell_type": "code",
   "execution_count": 92,
   "id": "2f9b942a-8273-4f5d-be19-e461a55de8ca",
   "metadata": {},
   "outputs": [],
   "source": [
    "#Normalise the data \n",
    "\n",
    "for x in ['Qty_Receipted_BUOM']:\n",
    "    q75,q25 = np.percentile(POdata.loc[:,x],[75,25])\n",
    "    intr_qr = q75-q25\n",
    " \n",
    "    max = q75+(1.5*intr_qr)\n",
    "    min = q25-(1.5*intr_qr)\n",
    " \n",
    "    POdata.loc[POdata[x] < min,x] = np.nan\n",
    "    POdata.loc[POdata[x] > max,x] = np.nan\n"
   ]
  },
  {
   "cell_type": "code",
   "execution_count": 93,
   "id": "517ea12a-e579-439e-afea-19d5357d5076",
   "metadata": {},
   "outputs": [],
   "source": [
    "#remove NANS\n",
    "POdatanew=POdata.dropna(how='any', inplace=True)"
   ]
  },
  {
   "cell_type": "code",
   "execution_count": 94,
   "id": "f836b3ba-bda9-45c5-8154-86ec08e34a99",
   "metadata": {},
   "outputs": [],
   "source": [
    "#reset data\n",
    "NonDirect = POdata[POdata['Order_Type'] != 'C. DIRECT SUPPLY']\n",
    "Direct = POdata[POdata['Order_Type'] == 'C. DIRECT SUPPLY']"
   ]
  },
  {
   "cell_type": "code",
   "execution_count": 95,
   "id": "b8842229-b668-4382-b604-39617bbec099",
   "metadata": {},
   "outputs": [
    {
     "data": {
      "text/plain": [
       "Text(0, 0.5, 'Received Quantity (1e6)')"
      ]
     },
     "execution_count": 95,
     "metadata": {},
     "output_type": "execute_result"
    },
    {
     "data": {
      "image/png": "[encoded data removed]",
      "text/plain": [
       "<Figure size 1500x1000 with 1 Axes>"
      ]
     },
     "metadata": {},
     "output_type": "display_data"
    }
   ],
   "source": [
    "bp=plt.boxplot((Direct['Qty_Receipted_BUOM'], NonDirect['Qty_Receipted_BUOM']), labels=['Direct Purchasing', 'Non Direct / General Purchasing'], notch='True')\n",
    "plt.title(\"Box Plot of Direct and NonDirect/General Purchasing at QLD Health\")\n",
    "plt.ylabel('Received Quantity (1e6)')\n"
   ]
  },
  {
   "cell_type": "code",
   "execution_count": 96,
   "id": "271a6724-8321-40a2-9bbf-083786e1aea7",
   "metadata": {},
   "outputs": [
    {
     "data": {
      "text/html": [
       "<div>\n",
       "<style scoped>\n",
       "    .dataframe tbody tr th:only-of-type {\n",
       "        vertical-align: middle;\n",
       "    }\n",
       "\n",
       "    .dataframe tbody tr th {\n",
       "        vertical-align: top;\n",
       "    }\n",
       "\n",
       "    .dataframe thead th {\n",
       "        text-align: right;\n",
       "    }\n",
       "</style>\n",
       "<table border=\"1\" class=\"dataframe\">\n",
       "  <thead>\n",
       "    <tr style=\"text-align: right;\">\n",
       "      <th></th>\n",
       "      <th>PO Number</th>\n",
       "      <th>Subcategory</th>\n",
       "      <th>Receiver</th>\n",
       "      <th>Receiver_Lane</th>\n",
       "      <th>Order_Type</th>\n",
       "      <th>Material Number</th>\n",
       "      <th>Qty_Receipted_BUOM</th>\n",
       "      <th>Not_CSR_Item</th>\n",
       "      <th>Direct_Purchasing</th>\n",
       "    </tr>\n",
       "  </thead>\n",
       "  <tbody>\n",
       "    <tr>\n",
       "      <th>3</th>\n",
       "      <td>4301943597</td>\n",
       "      <td>Apron</td>\n",
       "      <td>Rural &amp; Community Health: WB:Correctional Cen</td>\n",
       "      <td>Supplier:HHS</td>\n",
       "      <td>C. DIRECT SUPPLY</td>\n",
       "      <td>10015125</td>\n",
       "      <td>500.0</td>\n",
       "      <td>False</td>\n",
       "      <td>True</td>\n",
       "    </tr>\n",
       "    <tr>\n",
       "      <th>4</th>\n",
       "      <td>4301947250</td>\n",
       "      <td>Apron</td>\n",
       "      <td>Maryborough Hospital:Operational Serv</td>\n",
       "      <td>Supplier:HHS</td>\n",
       "      <td>C. DIRECT SUPPLY</td>\n",
       "      <td>10015125</td>\n",
       "      <td>500.0</td>\n",
       "      <td>False</td>\n",
       "      <td>True</td>\n",
       "    </tr>\n",
       "    <tr>\n",
       "      <th>5</th>\n",
       "      <td>4301958897</td>\n",
       "      <td>Apron</td>\n",
       "      <td>Rural &amp; Community Health: TV:Main Store</td>\n",
       "      <td>Supplier:HHS</td>\n",
       "      <td>C. DIRECT SUPPLY</td>\n",
       "      <td>10015125</td>\n",
       "      <td>500.0</td>\n",
       "      <td>False</td>\n",
       "      <td>True</td>\n",
       "    </tr>\n",
       "    <tr>\n",
       "      <th>6</th>\n",
       "      <td>4302023811</td>\n",
       "      <td>Apron</td>\n",
       "      <td>Pathology Qld:Logan Path Store</td>\n",
       "      <td>Supplier:PATH</td>\n",
       "      <td>C. DIRECT SUPPLY</td>\n",
       "      <td>10015125</td>\n",
       "      <td>1000.0</td>\n",
       "      <td>False</td>\n",
       "      <td>True</td>\n",
       "    </tr>\n",
       "    <tr>\n",
       "      <th>12</th>\n",
       "      <td>4302234226</td>\n",
       "      <td>Apron</td>\n",
       "      <td>Pathology Qld:SCUH Path Store</td>\n",
       "      <td>Supplier:PATH</td>\n",
       "      <td>C. DIRECT SUPPLY</td>\n",
       "      <td>10015125</td>\n",
       "      <td>500.0</td>\n",
       "      <td>False</td>\n",
       "      <td>True</td>\n",
       "    </tr>\n",
       "  </tbody>\n",
       "</table>\n",
       "</div>"
      ],
      "text/plain": [
       "     PO Number Subcategory                                       Receiver  \\\n",
       "3   4301943597       Apron  Rural & Community Health: WB:Correctional Cen   \n",
       "4   4301947250       Apron          Maryborough Hospital:Operational Serv   \n",
       "5   4301958897       Apron        Rural & Community Health: TV:Main Store   \n",
       "6   4302023811       Apron                 Pathology Qld:Logan Path Store   \n",
       "12  4302234226       Apron                  Pathology Qld:SCUH Path Store   \n",
       "\n",
       "    Receiver_Lane        Order_Type  Material Number  Qty_Receipted_BUOM  \\\n",
       "3    Supplier:HHS  C. DIRECT SUPPLY         10015125               500.0   \n",
       "4    Supplier:HHS  C. DIRECT SUPPLY         10015125               500.0   \n",
       "5    Supplier:HHS  C. DIRECT SUPPLY         10015125               500.0   \n",
       "6   Supplier:PATH  C. DIRECT SUPPLY         10015125              1000.0   \n",
       "12  Supplier:PATH  C. DIRECT SUPPLY         10015125               500.0   \n",
       "\n",
       "    Not_CSR_Item  Direct_Purchasing  \n",
       "3          False               True  \n",
       "4          False               True  \n",
       "5          False               True  \n",
       "6          False               True  \n",
       "12         False               True  "
      ]
     },
     "execution_count": 96,
     "metadata": {},
     "output_type": "execute_result"
    }
   ],
   "source": [
    "Direct.head()"
   ]
  },
  {
   "cell_type": "code",
   "execution_count": 97,
   "id": "cb8f4dfd-b37d-43db-b9ac-3b6e1449d1ce",
   "metadata": {},
   "outputs": [
    {
     "data": {
      "text/plain": [
       "False    91595\n",
       "True     10443\n",
       "Name: Not_CSR_Item, dtype: int64"
      ]
     },
     "execution_count": 97,
     "metadata": {},
     "output_type": "execute_result"
    }
   ],
   "source": [
    "#check how many Direct vs Non Direct purchases there are in the data frame\n",
    "POdata.Not_CSR_Item.value_counts()"
   ]
  },
  {
   "cell_type": "code",
   "execution_count": 98,
   "id": "03d1ac59-4701-43e6-bd4f-f9a067c5027a",
   "metadata": {},
   "outputs": [
    {
     "data": {
      "text/plain": [
       "Text(0.5, 1.0, 'Direct orders of CSR items')"
      ]
     },
     "execution_count": 98,
     "metadata": {},
     "output_type": "execute_result"
    },
    {
     "data": {
      "image/png": "[encoded data removed]",
      "text/plain": [
       "<Figure size 1500x1000 with 1 Axes>"
      ]
     },
     "metadata": {},
     "output_type": "display_data"
    }
   ],
   "source": [
    "#histogram of the CSR ordering qty\n",
    "plt.hist(Direct.Subcategory, facecolor='lightseagreen', edgecolor='dimgray')\n",
    "plt.xticks(rotation = 45) \n",
    "plt.ylabel('Received Quantity')\n",
    "plt.title('Direct orders of CSR items')"
   ]
  },
  {
   "cell_type": "code",
   "execution_count": 99,
   "id": "1e16ce94-d627-47a8-8a1c-321bbeb2cb8e",
   "metadata": {},
   "outputs": [
    {
     "data": {
      "text/plain": [
       "Text(0.5, 1.0, 'NonDirect/General orders of CSR items')"
      ]
     },
     "execution_count": 99,
     "metadata": {},
     "output_type": "execute_result"
    },
    {
     "data": {
      "image/png": "[encoded data removed]",
      "text/plain": [
       "<Figure size 1500x1000 with 1 Axes>"
      ]
     },
     "metadata": {},
     "output_type": "display_data"
    }
   ],
   "source": [
    "#histogram of the CSR ordering qty\n",
    "plt.hist(NonDirect.Subcategory, facecolor='lightseagreen', edgecolor='dimgray')\n",
    "plt.xticks(rotation = 45) \n",
    "plt.ylabel('Received Quantity')\n",
    "plt.title('NonDirect/General orders of CSR items')\n"
   ]
  },
  {
   "cell_type": "markdown",
   "id": "c34f2112-256d-4657-b7e5-68130bac255f",
   "metadata": {},
   "source": [
    "<p style=\"font-family: Arial; font-size:1.4em;color:green;\"> Hypothesis Testing </p>"
   ]
  },
  {
   "cell_type": "markdown",
   "id": "abdcc31c-1ddd-4e33-a0ae-450445be97df",
   "metadata": {},
   "source": [
    "Define the hypothesis\n",
    "\n",
    "H0: There is no direct purchasing of CSR items\n",
    "\n",
    "H1: There is direct purchasing of CSR items"
   ]
  },
  {
   "cell_type": "code",
   "execution_count": 101,
   "id": "2ab79fbc-98c8-4d41-b5a3-cfedb75833a8",
   "metadata": {},
   "outputs": [
    {
     "data": {
      "text/plain": [
       "False    0.897656\n",
       "True     0.102344\n",
       "Name: Not_CSR_Item, dtype: float64"
      ]
     },
     "execution_count": 101,
     "metadata": {},
     "output_type": "execute_result"
    }
   ],
   "source": [
    "POdata['Not_CSR_Item'].value_counts(normalize=True)"
   ]
  },
  {
   "cell_type": "code",
   "execution_count": 102,
   "id": "d96e0316-1798-47d6-b9c2-2f6c078a6e57",
   "metadata": {},
   "outputs": [
    {
     "data": {
      "text/html": [
       "<div>\n",
       "<style scoped>\n",
       "    .dataframe tbody tr th:only-of-type {\n",
       "        vertical-align: middle;\n",
       "    }\n",
       "\n",
       "    .dataframe tbody tr th {\n",
       "        vertical-align: top;\n",
       "    }\n",
       "\n",
       "    .dataframe thead th {\n",
       "        text-align: right;\n",
       "    }\n",
       "</style>\n",
       "<table border=\"1\" class=\"dataframe\">\n",
       "  <thead>\n",
       "    <tr style=\"text-align: right;\">\n",
       "      <th></th>\n",
       "      <th>count</th>\n",
       "      <th>unique</th>\n",
       "      <th>top</th>\n",
       "      <th>freq</th>\n",
       "      <th>mean</th>\n",
       "      <th>std</th>\n",
       "      <th>min</th>\n",
       "      <th>25%</th>\n",
       "      <th>50%</th>\n",
       "      <th>75%</th>\n",
       "      <th>max</th>\n",
       "    </tr>\n",
       "  </thead>\n",
       "  <tbody>\n",
       "    <tr>\n",
       "      <th>PO Number</th>\n",
       "      <td>102038.0</td>\n",
       "      <td>NaN</td>\n",
       "      <td>NaN</td>\n",
       "      <td>NaN</td>\n",
       "      <td>3979785865.972726</td>\n",
       "      <td>1119997270.293634</td>\n",
       "      <td>81078530.0</td>\n",
       "      <td>4301961061.0</td>\n",
       "      <td>4302193970.0</td>\n",
       "      <td>4302384088.25</td>\n",
       "      <td>4302644541.0</td>\n",
       "    </tr>\n",
       "    <tr>\n",
       "      <th>Subcategory</th>\n",
       "      <td>102038</td>\n",
       "      <td>11</td>\n",
       "      <td>Surgical_Respirator_P2/N95</td>\n",
       "      <td>32121</td>\n",
       "      <td>NaN</td>\n",
       "      <td>NaN</td>\n",
       "      <td>NaN</td>\n",
       "      <td>NaN</td>\n",
       "      <td>NaN</td>\n",
       "      <td>NaN</td>\n",
       "      <td>NaN</td>\n",
       "    </tr>\n",
       "    <tr>\n",
       "      <th>Receiver</th>\n",
       "      <td>102038</td>\n",
       "      <td>2233</td>\n",
       "      <td>Redcliffe Hospital:Operating Theatr</td>\n",
       "      <td>854</td>\n",
       "      <td>NaN</td>\n",
       "      <td>NaN</td>\n",
       "      <td>NaN</td>\n",
       "      <td>NaN</td>\n",
       "      <td>NaN</td>\n",
       "      <td>NaN</td>\n",
       "      <td>NaN</td>\n",
       "    </tr>\n",
       "    <tr>\n",
       "      <th>Receiver_Lane</th>\n",
       "      <td>102038</td>\n",
       "      <td>46</td>\n",
       "      <td>SEQDC:HHS</td>\n",
       "      <td>56053</td>\n",
       "      <td>NaN</td>\n",
       "      <td>NaN</td>\n",
       "      <td>NaN</td>\n",
       "      <td>NaN</td>\n",
       "      <td>NaN</td>\n",
       "      <td>NaN</td>\n",
       "      <td>NaN</td>\n",
       "    </tr>\n",
       "    <tr>\n",
       "      <th>Order_Type</th>\n",
       "      <td>102038</td>\n",
       "      <td>13</td>\n",
       "      <td>D. DEMAND SEQDC</td>\n",
       "      <td>56233</td>\n",
       "      <td>NaN</td>\n",
       "      <td>NaN</td>\n",
       "      <td>NaN</td>\n",
       "      <td>NaN</td>\n",
       "      <td>NaN</td>\n",
       "      <td>NaN</td>\n",
       "      <td>NaN</td>\n",
       "    </tr>\n",
       "    <tr>\n",
       "      <th>Material Number</th>\n",
       "      <td>102038.0</td>\n",
       "      <td>NaN</td>\n",
       "      <td>NaN</td>\n",
       "      <td>NaN</td>\n",
       "      <td>10152760.466395</td>\n",
       "      <td>177222.257306</td>\n",
       "      <td>10000974.0</td>\n",
       "      <td>10019056.0</td>\n",
       "      <td>10038088.0</td>\n",
       "      <td>10401937.0</td>\n",
       "      <td>10431075.0</td>\n",
       "    </tr>\n",
       "    <tr>\n",
       "      <th>Qty_Receipted_BUOM</th>\n",
       "      <td>102038.0</td>\n",
       "      <td>NaN</td>\n",
       "      <td>NaN</td>\n",
       "      <td>NaN</td>\n",
       "      <td>251.607695</td>\n",
       "      <td>253.557753</td>\n",
       "      <td>1.0</td>\n",
       "      <td>64.0</td>\n",
       "      <td>150.0</td>\n",
       "      <td>400.0</td>\n",
       "      <td>1130.0</td>\n",
       "    </tr>\n",
       "    <tr>\n",
       "      <th>Not_CSR_Item</th>\n",
       "      <td>102038</td>\n",
       "      <td>2</td>\n",
       "      <td>False</td>\n",
       "      <td>91595</td>\n",
       "      <td>NaN</td>\n",
       "      <td>NaN</td>\n",
       "      <td>NaN</td>\n",
       "      <td>NaN</td>\n",
       "      <td>NaN</td>\n",
       "      <td>NaN</td>\n",
       "      <td>NaN</td>\n",
       "    </tr>\n",
       "    <tr>\n",
       "      <th>Direct_Purchasing</th>\n",
       "      <td>102038</td>\n",
       "      <td>2</td>\n",
       "      <td>False</td>\n",
       "      <td>101398</td>\n",
       "      <td>NaN</td>\n",
       "      <td>NaN</td>\n",
       "      <td>NaN</td>\n",
       "      <td>NaN</td>\n",
       "      <td>NaN</td>\n",
       "      <td>NaN</td>\n",
       "      <td>NaN</td>\n",
       "    </tr>\n",
       "  </tbody>\n",
       "</table>\n",
       "</div>"
      ],
      "text/plain": [
       "                       count unique                                  top  \\\n",
       "PO Number           102038.0    NaN                                  NaN   \n",
       "Subcategory           102038     11           Surgical_Respirator_P2/N95   \n",
       "Receiver              102038   2233  Redcliffe Hospital:Operating Theatr   \n",
       "Receiver_Lane         102038     46                            SEQDC:HHS   \n",
       "Order_Type            102038     13                      D. DEMAND SEQDC   \n",
       "Material Number     102038.0    NaN                                  NaN   \n",
       "Qty_Receipted_BUOM  102038.0    NaN                                  NaN   \n",
       "Not_CSR_Item          102038      2                                False   \n",
       "Direct_Purchasing     102038      2                                False   \n",
       "\n",
       "                      freq               mean                std         min  \\\n",
       "PO Number              NaN  3979785865.972726  1119997270.293634  81078530.0   \n",
       "Subcategory          32121                NaN                NaN         NaN   \n",
       "Receiver               854                NaN                NaN         NaN   \n",
       "Receiver_Lane        56053                NaN                NaN         NaN   \n",
       "Order_Type           56233                NaN                NaN         NaN   \n",
       "Material Number        NaN    10152760.466395      177222.257306  10000974.0   \n",
       "Qty_Receipted_BUOM     NaN         251.607695         253.557753         1.0   \n",
       "Not_CSR_Item         91595                NaN                NaN         NaN   \n",
       "Direct_Purchasing   101398                NaN                NaN         NaN   \n",
       "\n",
       "                             25%           50%            75%           max  \n",
       "PO Number           4301961061.0  4302193970.0  4302384088.25  4302644541.0  \n",
       "Subcategory                  NaN           NaN            NaN           NaN  \n",
       "Receiver                     NaN           NaN            NaN           NaN  \n",
       "Receiver_Lane                NaN           NaN            NaN           NaN  \n",
       "Order_Type                   NaN           NaN            NaN           NaN  \n",
       "Material Number       10019056.0    10038088.0     10401937.0    10431075.0  \n",
       "Qty_Receipted_BUOM          64.0         150.0          400.0        1130.0  \n",
       "Not_CSR_Item                 NaN           NaN            NaN           NaN  \n",
       "Direct_Purchasing            NaN           NaN            NaN           NaN  "
      ]
     },
     "execution_count": 102,
     "metadata": {},
     "output_type": "execute_result"
    }
   ],
   "source": [
    "POdata.describe(include='all').T"
   ]
  },
  {
   "cell_type": "code",
   "execution_count": 103,
   "id": "461b9394-1069-44b4-a8c3-eb636bf331db",
   "metadata": {},
   "outputs": [],
   "source": [
    "Direct = POdata[POdata['Order_Type'] == 'C. DIRECT SUPPLY'].sample(100, random_state=42)\n",
    "NonDirect = POdata[POdata['Order_Type'] != 'C. DIRECT SUPPLY'].sample(100, random_state=42)"
   ]
  },
  {
   "cell_type": "code",
   "execution_count": 104,
   "id": "ff4bed78-f2f2-4162-8660-e220707b2da9",
   "metadata": {},
   "outputs": [
    {
     "data": {
      "text/plain": [
       "24.0      12\n",
       "100.0      7\n",
       "40.0       7\n",
       "400.0      6\n",
       "80.0       6\n",
       "120.0      6\n",
       "20.0       5\n",
       "500.0      5\n",
       "250.0      5\n",
       "50.0       5\n",
       "60.0       5\n",
       "200.0      4\n",
       "25.0       3\n",
       "630.0      2\n",
       "1000.0     2\n",
       "576.0      2\n",
       "240.0      2\n",
       "150.0      2\n",
       "75.0       2\n",
       "12.0       2\n",
       "600.0      1\n",
       "408.0      1\n",
       "700.0      1\n",
       "800.0      1\n",
       "300.0      1\n",
       "320.0      1\n",
       "6.0        1\n",
       "5.0        1\n",
       "48.0       1\n",
       "144.0      1\n",
       "Name: Qty_Receipted_BUOM, dtype: int64"
      ]
     },
     "execution_count": 104,
     "metadata": {},
     "output_type": "execute_result"
    }
   ],
   "source": [
    "Direct['Qty_Receipted_BUOM'].value_counts()"
   ]
  },
  {
   "cell_type": "code",
   "execution_count": 105,
   "id": "766acbb9-fdeb-49d9-8288-38ae974d1d90",
   "metadata": {},
   "outputs": [
    {
     "data": {
      "text/plain": [
       "100.0     10\n",
       "200.0      8\n",
       "400.0      7\n",
       "50.0       7\n",
       "500.0      7\n",
       "300.0      6\n",
       "60.0       4\n",
       "20.0       4\n",
       "56.0       4\n",
       "105.0      3\n",
       "40.0       3\n",
       "600.0      3\n",
       "10.0       3\n",
       "150.0      3\n",
       "30.0       3\n",
       "1000.0     2\n",
       "140.0      2\n",
       "70.0       2\n",
       "960.0      2\n",
       "28.0       2\n",
       "35.0       2\n",
       "75.0       1\n",
       "54.0       1\n",
       "420.0      1\n",
       "160.0      1\n",
       "480.0      1\n",
       "25.0       1\n",
       "250.0      1\n",
       "550.0      1\n",
       "280.0      1\n",
       "175.0      1\n",
       "168.0      1\n",
       "225.0      1\n",
       "240.0      1\n",
       "Name: Qty_Receipted_BUOM, dtype: int64"
      ]
     },
     "execution_count": 105,
     "metadata": {},
     "output_type": "execute_result"
    }
   ],
   "source": [
    "NonDirect['Qty_Receipted_BUOM'].value_counts()"
   ]
  },
  {
   "cell_type": "code",
   "execution_count": 106,
   "id": "f5980887-5210-440d-b208-226efd34caf3",
   "metadata": {},
   "outputs": [],
   "source": [
    "N = 100\n",
    "a = Direct['Qty_Receipted_BUOM']\n",
    "b = NonDirect['Qty_Receipted_BUOM']"
   ]
  },
  {
   "cell_type": "code",
   "execution_count": 107,
   "id": "51364b37-6826-4d86-96f8-9f402bdf39b2",
   "metadata": {},
   "outputs": [],
   "source": [
    "#set the alpha\n",
    "alpha = 0.05"
   ]
  },
  {
   "cell_type": "code",
   "execution_count": 108,
   "id": "11ba5d80-a0d8-4486-bf28-0f127b42aaad",
   "metadata": {},
   "outputs": [],
   "source": [
    "#calculate point estimate\n",
    "a = Direct['Qty_Receipted_BUOM']\n",
    "b = NonDirect['Qty_Receipted_BUOM']"
   ]
  },
  {
   "cell_type": "code",
   "execution_count": 109,
   "id": "4c3eb3f8-c9cf-4ed4-b986-75bffc258760",
   "metadata": {},
   "outputs": [],
   "source": [
    "## Calculate the variance to get the standard deviation\n",
    "var_a = a.var(ddof = 1)\n",
    "var_b = b.var(ddof = 1)\n",
    "\n",
    "## Calculate the Standard Deviation\n",
    "s = np.sqrt((var_a + var_b)/2)"
   ]
  },
  {
   "cell_type": "code",
   "execution_count": 110,
   "id": "a18481be-f5ba-4f70-b0d8-4e3e0e16c328",
   "metadata": {},
   "outputs": [
    {
     "data": {
      "text/plain": [
       "49306.92929292929"
      ]
     },
     "execution_count": 110,
     "metadata": {},
     "output_type": "execute_result"
    }
   ],
   "source": [
    "var_a"
   ]
  },
  {
   "cell_type": "code",
   "execution_count": 111,
   "id": "b80222af-0377-4c08-a6b6-b445e74ae50d",
   "metadata": {},
   "outputs": [
    {
     "data": {
      "text/plain": [
       "52395.81929292934"
      ]
     },
     "execution_count": 111,
     "metadata": {},
     "output_type": "execute_result"
    }
   ],
   "source": [
    "var_b"
   ]
  },
  {
   "cell_type": "code",
   "execution_count": 112,
   "id": "3cbda329-c02e-4068-867f-e7e468695848",
   "metadata": {},
   "outputs": [
    {
     "data": {
      "text/plain": [
       "225.5024928751993"
      ]
     },
     "execution_count": 112,
     "metadata": {},
     "output_type": "execute_result"
    }
   ],
   "source": [
    "s"
   ]
  },
  {
   "cell_type": "code",
   "execution_count": 113,
   "id": "fef27616-a305-42a2-ad94-d1eede31f24f",
   "metadata": {},
   "outputs": [
    {
     "data": {
      "text/plain": [
       "-0.9805314684454699"
      ]
     },
     "execution_count": 113,
     "metadata": {},
     "output_type": "execute_result"
    }
   ],
   "source": [
    "#Calculate test statistic\n",
    "\n",
    "t = (a.mean() - b.mean()) / (s * np.sqrt(2 / N))  # t-statistic\n",
    "t"
   ]
  },
  {
   "cell_type": "code",
   "execution_count": 114,
   "id": "90c2e60b-a7f2-4dd5-beed-6dd53e3c35a6",
   "metadata": {},
   "outputs": [],
   "source": [
    "#find the P Value\n",
    "## Compare with the critical t-value\n",
    "## Degrees of freedom\n",
    "df = 2*N - 2\n",
    "\n",
    "#p-value after comparison with the t \n",
    "if (t > 0):\n",
    "    p = 1 - stats.t.cdf(t, df = df) \n",
    "else:\n",
    "    p = stats.t.cdf(t, df = df)"
   ]
  },
  {
   "cell_type": "code",
   "execution_count": 115,
   "id": "eec0995b-9dd9-4c7c-a336-a7cb4aaac7df",
   "metadata": {},
   "outputs": [
    {
     "name": "stdout",
     "output_type": "stream",
     "text": [
      "t = -0.9805314684454699\n",
      "p = 0.3280204069765116\n"
     ]
    }
   ],
   "source": [
    "print(\"t = \" + str(t))\n",
    "print(\"p = \" + str(2*p))"
   ]
  },
  {
   "cell_type": "code",
   "execution_count": 116,
   "id": "969586e0-643c-4a2d-a03f-f8047808a534",
   "metadata": {},
   "outputs": [
    {
     "name": "stdout",
     "output_type": "stream",
     "text": [
      "t = -0.98053146844547\n",
      "p = 0.3280215093569443\n"
     ]
    }
   ],
   "source": [
    "## Cross Checking with the internal scipy function\n",
    "t2, p2 = stats.ttest_ind(a,b, equal_var=False)\n",
    "print(\"t = \" + str(t2))\n",
    "print(\"p = \" + str(p2))\n"
   ]
  },
  {
   "cell_type": "markdown",
   "id": "e21dc9b2-fd63-44fa-8ae7-12eda9b2a361",
   "metadata": {},
   "source": [
    "<p style=\"font-family: Arial; font-size:1.4em;color:green;\"> Next Steps </p>"
   ]
  },
  {
   "cell_type": "code",
   "execution_count": 117,
   "id": "3f8993cd-3fe3-4527-862b-755b20c8d5b6",
   "metadata": {},
   "outputs": [
    {
     "data": {
      "text/html": [
       "<div>\n",
       "<style scoped>\n",
       "    .dataframe tbody tr th:only-of-type {\n",
       "        vertical-align: middle;\n",
       "    }\n",
       "\n",
       "    .dataframe tbody tr th {\n",
       "        vertical-align: top;\n",
       "    }\n",
       "\n",
       "    .dataframe thead th {\n",
       "        text-align: right;\n",
       "    }\n",
       "</style>\n",
       "<table border=\"1\" class=\"dataframe\">\n",
       "  <thead>\n",
       "    <tr style=\"text-align: right;\">\n",
       "      <th></th>\n",
       "      <th>PO Number</th>\n",
       "      <th>Subcategory</th>\n",
       "      <th>Receiver</th>\n",
       "      <th>Receiver_Lane</th>\n",
       "      <th>Order_Type</th>\n",
       "      <th>Material Number</th>\n",
       "      <th>Qty_Receipted_BUOM</th>\n",
       "      <th>Not_CSR_Item</th>\n",
       "      <th>Direct_Purchasing</th>\n",
       "    </tr>\n",
       "  </thead>\n",
       "  <tbody>\n",
       "    <tr>\n",
       "      <th>3</th>\n",
       "      <td>4301943597</td>\n",
       "      <td>Apron</td>\n",
       "      <td>Rural &amp; Community Health: WB:Correctional Cen</td>\n",
       "      <td>Supplier:HHS</td>\n",
       "      <td>C. DIRECT SUPPLY</td>\n",
       "      <td>10015125</td>\n",
       "      <td>500.0</td>\n",
       "      <td>False</td>\n",
       "      <td>True</td>\n",
       "    </tr>\n",
       "    <tr>\n",
       "      <th>4</th>\n",
       "      <td>4301947250</td>\n",
       "      <td>Apron</td>\n",
       "      <td>Maryborough Hospital:Operational Serv</td>\n",
       "      <td>Supplier:HHS</td>\n",
       "      <td>C. DIRECT SUPPLY</td>\n",
       "      <td>10015125</td>\n",
       "      <td>500.0</td>\n",
       "      <td>False</td>\n",
       "      <td>True</td>\n",
       "    </tr>\n",
       "    <tr>\n",
       "      <th>5</th>\n",
       "      <td>4301958897</td>\n",
       "      <td>Apron</td>\n",
       "      <td>Rural &amp; Community Health: TV:Main Store</td>\n",
       "      <td>Supplier:HHS</td>\n",
       "      <td>C. DIRECT SUPPLY</td>\n",
       "      <td>10015125</td>\n",
       "      <td>500.0</td>\n",
       "      <td>False</td>\n",
       "      <td>True</td>\n",
       "    </tr>\n",
       "    <tr>\n",
       "      <th>6</th>\n",
       "      <td>4302023811</td>\n",
       "      <td>Apron</td>\n",
       "      <td>Pathology Qld:Logan Path Store</td>\n",
       "      <td>Supplier:PATH</td>\n",
       "      <td>C. DIRECT SUPPLY</td>\n",
       "      <td>10015125</td>\n",
       "      <td>1000.0</td>\n",
       "      <td>False</td>\n",
       "      <td>True</td>\n",
       "    </tr>\n",
       "    <tr>\n",
       "      <th>12</th>\n",
       "      <td>4302234226</td>\n",
       "      <td>Apron</td>\n",
       "      <td>Pathology Qld:SCUH Path Store</td>\n",
       "      <td>Supplier:PATH</td>\n",
       "      <td>C. DIRECT SUPPLY</td>\n",
       "      <td>10015125</td>\n",
       "      <td>500.0</td>\n",
       "      <td>False</td>\n",
       "      <td>True</td>\n",
       "    </tr>\n",
       "  </tbody>\n",
       "</table>\n",
       "</div>"
      ],
      "text/plain": [
       "     PO Number Subcategory                                       Receiver  \\\n",
       "3   4301943597       Apron  Rural & Community Health: WB:Correctional Cen   \n",
       "4   4301947250       Apron          Maryborough Hospital:Operational Serv   \n",
       "5   4301958897       Apron        Rural & Community Health: TV:Main Store   \n",
       "6   4302023811       Apron                 Pathology Qld:Logan Path Store   \n",
       "12  4302234226       Apron                  Pathology Qld:SCUH Path Store   \n",
       "\n",
       "    Receiver_Lane        Order_Type  Material Number  Qty_Receipted_BUOM  \\\n",
       "3    Supplier:HHS  C. DIRECT SUPPLY         10015125               500.0   \n",
       "4    Supplier:HHS  C. DIRECT SUPPLY         10015125               500.0   \n",
       "5    Supplier:HHS  C. DIRECT SUPPLY         10015125               500.0   \n",
       "6   Supplier:PATH  C. DIRECT SUPPLY         10015125              1000.0   \n",
       "12  Supplier:PATH  C. DIRECT SUPPLY         10015125               500.0   \n",
       "\n",
       "    Not_CSR_Item  Direct_Purchasing  \n",
       "3          False               True  \n",
       "4          False               True  \n",
       "5          False               True  \n",
       "6          False               True  \n",
       "12         False               True  "
      ]
     },
     "execution_count": 117,
     "metadata": {},
     "output_type": "execute_result"
    }
   ],
   "source": [
    "POdata.head()"
   ]
  },
  {
   "cell_type": "code",
   "execution_count": 118,
   "id": "07ed7742-daef-4ce5-b101-004264b183db",
   "metadata": {},
   "outputs": [],
   "source": [
    "POdatadp=POdata.loc[POdata.Direct_Purchasing == 1]"
   ]
  },
  {
   "cell_type": "code",
   "execution_count": 119,
   "id": "f725d5bd-a611-4cb5-93d6-357ddf2c4d0d",
   "metadata": {},
   "outputs": [],
   "source": [
    "POdatadpcsr=POdatadp.loc[POdatadp.Not_CSR_Item == 0]"
   ]
  },
  {
   "cell_type": "code",
   "execution_count": 120,
   "id": "3623a690-85cb-462b-a2ef-d374ddb54b26",
   "metadata": {},
   "outputs": [
    {
     "data": {
      "text/html": [
       "<div>\n",
       "<style scoped>\n",
       "    .dataframe tbody tr th:only-of-type {\n",
       "        vertical-align: middle;\n",
       "    }\n",
       "\n",
       "    .dataframe tbody tr th {\n",
       "        vertical-align: top;\n",
       "    }\n",
       "\n",
       "    .dataframe thead th {\n",
       "        text-align: right;\n",
       "    }\n",
       "</style>\n",
       "<table border=\"1\" class=\"dataframe\">\n",
       "  <thead>\n",
       "    <tr style=\"text-align: right;\">\n",
       "      <th></th>\n",
       "      <th>PO Number</th>\n",
       "      <th>Material Number</th>\n",
       "      <th>Qty_Receipted_BUOM</th>\n",
       "    </tr>\n",
       "  </thead>\n",
       "  <tbody>\n",
       "    <tr>\n",
       "      <th>count</th>\n",
       "      <td>4.030000e+02</td>\n",
       "      <td>4.030000e+02</td>\n",
       "      <td>403.000000</td>\n",
       "    </tr>\n",
       "    <tr>\n",
       "      <th>mean</th>\n",
       "      <td>4.302210e+09</td>\n",
       "      <td>1.024058e+07</td>\n",
       "      <td>176.173697</td>\n",
       "    </tr>\n",
       "    <tr>\n",
       "      <th>std</th>\n",
       "      <td>2.610261e+05</td>\n",
       "      <td>1.844574e+05</td>\n",
       "      <td>207.515137</td>\n",
       "    </tr>\n",
       "    <tr>\n",
       "      <th>min</th>\n",
       "      <td>4.301824e+09</td>\n",
       "      <td>1.000137e+07</td>\n",
       "      <td>1.000000</td>\n",
       "    </tr>\n",
       "    <tr>\n",
       "      <th>25%</th>\n",
       "      <td>4.301933e+09</td>\n",
       "      <td>1.003242e+07</td>\n",
       "      <td>40.000000</td>\n",
       "    </tr>\n",
       "    <tr>\n",
       "      <th>50%</th>\n",
       "      <td>4.302222e+09</td>\n",
       "      <td>1.040228e+07</td>\n",
       "      <td>100.000000</td>\n",
       "    </tr>\n",
       "    <tr>\n",
       "      <th>75%</th>\n",
       "      <td>4.302442e+09</td>\n",
       "      <td>1.040272e+07</td>\n",
       "      <td>240.000000</td>\n",
       "    </tr>\n",
       "    <tr>\n",
       "      <th>max</th>\n",
       "      <td>4.302639e+09</td>\n",
       "      <td>1.040273e+07</td>\n",
       "      <td>1000.000000</td>\n",
       "    </tr>\n",
       "  </tbody>\n",
       "</table>\n",
       "</div>"
      ],
      "text/plain": [
       "          PO Number  Material Number  Qty_Receipted_BUOM\n",
       "count  4.030000e+02     4.030000e+02          403.000000\n",
       "mean   4.302210e+09     1.024058e+07          176.173697\n",
       "std    2.610261e+05     1.844574e+05          207.515137\n",
       "min    4.301824e+09     1.000137e+07            1.000000\n",
       "25%    4.301933e+09     1.003242e+07           40.000000\n",
       "50%    4.302222e+09     1.040228e+07          100.000000\n",
       "75%    4.302442e+09     1.040272e+07          240.000000\n",
       "max    4.302639e+09     1.040273e+07         1000.000000"
      ]
     },
     "execution_count": 120,
     "metadata": {},
     "output_type": "execute_result"
    }
   ],
   "source": [
    "POdatadpcsr.describe()"
   ]
  },
  {
   "cell_type": "code",
   "execution_count": null,
   "id": "0d7f3271-aad0-4b9e-9f19-7e7598bf0f71",
   "metadata": {},
   "outputs": [],
   "source": [
    "#histogram of the CSR ordering qty\n",
    "plt.hist(POdatadpcsr.Subcategory, facecolor='lightseagreen', edgecolor='dimgray')\n",
    "plt.xticks(rotation = 45) \n",
    "plt.ylabel('Received Quantity')\n",
    "plt.title('Direct orders of CSR items by Subcategory')"
   ]
  },
  {
   "cell_type": "code",
   "execution_count": null,
   "id": "c856e388-fa9b-41b9-9ef3-e7e31730b0d1",
   "metadata": {},
   "outputs": [],
   "source": []
  },
  {
   "cell_type": "code",
   "execution_count": 122,
   "id": "b8028cdc-3fc2-43cc-bd85-67fe80a1b445",
   "metadata": {},
   "outputs": [
    {
     "data": {
      "text/plain": [
       "(array([350.,   0.,   0.,  51.,   0.,   0.,   1.,   0.,   0.,   1.]),\n",
       " array([0. , 0.3, 0.6, 0.9, 1.2, 1.5, 1.8, 2.1, 2.4, 2.7, 3. ]),\n",
       " <BarContainer object of 10 artists>)"
      ]
     },
     "execution_count": 122,
     "metadata": {},
     "output_type": "execute_result"
    },
    {
     "data": {
      "image/png": "[encoded data removed]",
      "text/plain": [
       "<Figure size 1500x1000 with 1 Axes>"
      ]
     },
     "metadata": {},
     "output_type": "display_data"
    }
   ],
   "source": [
    "#histogram of the CSR ordering qty\n",
    "plt.hist(POdatadpcsr.Receiver_Lane)"
   ]
  },
  {
   "cell_type": "code",
   "execution_count": 123,
   "id": "606b8176-1d69-4643-befe-0543c8b61dc0",
   "metadata": {},
   "outputs": [
    {
     "data": {
      "text/html": [
       "<div>\n",
       "<style scoped>\n",
       "    .dataframe tbody tr th:only-of-type {\n",
       "        vertical-align: middle;\n",
       "    }\n",
       "\n",
       "    .dataframe tbody tr th {\n",
       "        vertical-align: top;\n",
       "    }\n",
       "\n",
       "    .dataframe thead th {\n",
       "        text-align: right;\n",
       "    }\n",
       "</style>\n",
       "<table border=\"1\" class=\"dataframe\">\n",
       "  <thead>\n",
       "    <tr style=\"text-align: right;\">\n",
       "      <th></th>\n",
       "      <th>PO Number</th>\n",
       "      <th>Subcategory</th>\n",
       "      <th>Receiver</th>\n",
       "      <th>Receiver_Lane</th>\n",
       "      <th>Order_Type</th>\n",
       "      <th>Material Number</th>\n",
       "      <th>Qty_Receipted_BUOM</th>\n",
       "      <th>Not_CSR_Item</th>\n",
       "      <th>Direct_Purchasing</th>\n",
       "    </tr>\n",
       "  </thead>\n",
       "  <tbody>\n",
       "    <tr>\n",
       "      <th>3</th>\n",
       "      <td>4301943597</td>\n",
       "      <td>Apron</td>\n",
       "      <td>Rural &amp; Community Health: WB:Correctional Cen</td>\n",
       "      <td>Supplier:HHS</td>\n",
       "      <td>C. DIRECT SUPPLY</td>\n",
       "      <td>10015125</td>\n",
       "      <td>500.0</td>\n",
       "      <td>False</td>\n",
       "      <td>True</td>\n",
       "    </tr>\n",
       "    <tr>\n",
       "      <th>4</th>\n",
       "      <td>4301947250</td>\n",
       "      <td>Apron</td>\n",
       "      <td>Maryborough Hospital:Operational Serv</td>\n",
       "      <td>Supplier:HHS</td>\n",
       "      <td>C. DIRECT SUPPLY</td>\n",
       "      <td>10015125</td>\n",
       "      <td>500.0</td>\n",
       "      <td>False</td>\n",
       "      <td>True</td>\n",
       "    </tr>\n",
       "    <tr>\n",
       "      <th>5</th>\n",
       "      <td>4301958897</td>\n",
       "      <td>Apron</td>\n",
       "      <td>Rural &amp; Community Health: TV:Main Store</td>\n",
       "      <td>Supplier:HHS</td>\n",
       "      <td>C. DIRECT SUPPLY</td>\n",
       "      <td>10015125</td>\n",
       "      <td>500.0</td>\n",
       "      <td>False</td>\n",
       "      <td>True</td>\n",
       "    </tr>\n",
       "    <tr>\n",
       "      <th>6</th>\n",
       "      <td>4302023811</td>\n",
       "      <td>Apron</td>\n",
       "      <td>Pathology Qld:Logan Path Store</td>\n",
       "      <td>Supplier:PATH</td>\n",
       "      <td>C. DIRECT SUPPLY</td>\n",
       "      <td>10015125</td>\n",
       "      <td>1000.0</td>\n",
       "      <td>False</td>\n",
       "      <td>True</td>\n",
       "    </tr>\n",
       "    <tr>\n",
       "      <th>12</th>\n",
       "      <td>4302234226</td>\n",
       "      <td>Apron</td>\n",
       "      <td>Pathology Qld:SCUH Path Store</td>\n",
       "      <td>Supplier:PATH</td>\n",
       "      <td>C. DIRECT SUPPLY</td>\n",
       "      <td>10015125</td>\n",
       "      <td>500.0</td>\n",
       "      <td>False</td>\n",
       "      <td>True</td>\n",
       "    </tr>\n",
       "    <tr>\n",
       "      <th>14</th>\n",
       "      <td>4302275000</td>\n",
       "      <td>Apron</td>\n",
       "      <td>Pathology Qld:GCUH Path &amp; Educ</td>\n",
       "      <td>Supplier:PATH</td>\n",
       "      <td>C. DIRECT SUPPLY</td>\n",
       "      <td>10015125</td>\n",
       "      <td>1000.0</td>\n",
       "      <td>False</td>\n",
       "      <td>True</td>\n",
       "    </tr>\n",
       "    <tr>\n",
       "      <th>17</th>\n",
       "      <td>4302378440</td>\n",
       "      <td>Apron</td>\n",
       "      <td>Rockhampton Hospital:Ext Medical Ward</td>\n",
       "      <td>Supplier:HHS</td>\n",
       "      <td>C. DIRECT SUPPLY</td>\n",
       "      <td>10401937</td>\n",
       "      <td>1000.0</td>\n",
       "      <td>False</td>\n",
       "      <td>True</td>\n",
       "    </tr>\n",
       "    <tr>\n",
       "      <th>22</th>\n",
       "      <td>4302480431</td>\n",
       "      <td>Apron</td>\n",
       "      <td>Pathology Qld:TPCH Anat Path</td>\n",
       "      <td>Supplier:PATH</td>\n",
       "      <td>C. DIRECT SUPPLY</td>\n",
       "      <td>10015125</td>\n",
       "      <td>500.0</td>\n",
       "      <td>False</td>\n",
       "      <td>True</td>\n",
       "    </tr>\n",
       "    <tr>\n",
       "      <th>23</th>\n",
       "      <td>4302516905</td>\n",
       "      <td>Apron</td>\n",
       "      <td>Pathology Qld:Cairns Path Stor</td>\n",
       "      <td>Supplier:PATH</td>\n",
       "      <td>C. DIRECT SUPPLY</td>\n",
       "      <td>10015125</td>\n",
       "      <td>500.0</td>\n",
       "      <td>False</td>\n",
       "      <td>True</td>\n",
       "    </tr>\n",
       "    <tr>\n",
       "      <th>33</th>\n",
       "      <td>4302618590</td>\n",
       "      <td>Apron</td>\n",
       "      <td>Pathology Qld:RBWH Path Lab</td>\n",
       "      <td>Supplier:PATH</td>\n",
       "      <td>C. DIRECT SUPPLY</td>\n",
       "      <td>10015125</td>\n",
       "      <td>500.0</td>\n",
       "      <td>False</td>\n",
       "      <td>True</td>\n",
       "    </tr>\n",
       "  </tbody>\n",
       "</table>\n",
       "</div>"
      ],
      "text/plain": [
       "     PO Number Subcategory                                       Receiver  \\\n",
       "3   4301943597       Apron  Rural & Community Health: WB:Correctional Cen   \n",
       "4   4301947250       Apron          Maryborough Hospital:Operational Serv   \n",
       "5   4301958897       Apron        Rural & Community Health: TV:Main Store   \n",
       "6   4302023811       Apron                 Pathology Qld:Logan Path Store   \n",
       "12  4302234226       Apron                  Pathology Qld:SCUH Path Store   \n",
       "14  4302275000       Apron                 Pathology Qld:GCUH Path & Educ   \n",
       "17  4302378440       Apron          Rockhampton Hospital:Ext Medical Ward   \n",
       "22  4302480431       Apron                   Pathology Qld:TPCH Anat Path   \n",
       "23  4302516905       Apron                 Pathology Qld:Cairns Path Stor   \n",
       "33  4302618590       Apron                    Pathology Qld:RBWH Path Lab   \n",
       "\n",
       "    Receiver_Lane        Order_Type  Material Number  Qty_Receipted_BUOM  \\\n",
       "3    Supplier:HHS  C. DIRECT SUPPLY         10015125               500.0   \n",
       "4    Supplier:HHS  C. DIRECT SUPPLY         10015125               500.0   \n",
       "5    Supplier:HHS  C. DIRECT SUPPLY         10015125               500.0   \n",
       "6   Supplier:PATH  C. DIRECT SUPPLY         10015125              1000.0   \n",
       "12  Supplier:PATH  C. DIRECT SUPPLY         10015125               500.0   \n",
       "14  Supplier:PATH  C. DIRECT SUPPLY         10015125              1000.0   \n",
       "17   Supplier:HHS  C. DIRECT SUPPLY         10401937              1000.0   \n",
       "22  Supplier:PATH  C. DIRECT SUPPLY         10015125               500.0   \n",
       "23  Supplier:PATH  C. DIRECT SUPPLY         10015125               500.0   \n",
       "33  Supplier:PATH  C. DIRECT SUPPLY         10015125               500.0   \n",
       "\n",
       "    Not_CSR_Item  Direct_Purchasing  \n",
       "3          False               True  \n",
       "4          False               True  \n",
       "5          False               True  \n",
       "6          False               True  \n",
       "12         False               True  \n",
       "14         False               True  \n",
       "17         False               True  \n",
       "22         False               True  \n",
       "23         False               True  \n",
       "33         False               True  "
      ]
     },
     "execution_count": 123,
     "metadata": {},
     "output_type": "execute_result"
    }
   ],
   "source": [
    "POdatadpcsr.head(10)"
   ]
  },
  {
   "cell_type": "code",
   "execution_count": 124,
   "id": "e37d0e72-7cc3-433f-a88f-3d2711f29638",
   "metadata": {},
   "outputs": [],
   "source": [
    "POdatanotdp=POdata.loc[POdata.Direct_Purchasing == 0]"
   ]
  },
  {
   "cell_type": "code",
   "execution_count": 125,
   "id": "ea90f197-5fac-4767-a599-80b01402ba13",
   "metadata": {},
   "outputs": [
    {
     "data": {
      "text/html": [
       "<div>\n",
       "<style scoped>\n",
       "    .dataframe tbody tr th:only-of-type {\n",
       "        vertical-align: middle;\n",
       "    }\n",
       "\n",
       "    .dataframe tbody tr th {\n",
       "        vertical-align: top;\n",
       "    }\n",
       "\n",
       "    .dataframe thead th {\n",
       "        text-align: right;\n",
       "    }\n",
       "</style>\n",
       "<table border=\"1\" class=\"dataframe\">\n",
       "  <thead>\n",
       "    <tr style=\"text-align: right;\">\n",
       "      <th></th>\n",
       "      <th>PO Number</th>\n",
       "      <th>Subcategory</th>\n",
       "      <th>Receiver</th>\n",
       "      <th>Receiver_Lane</th>\n",
       "      <th>Order_Type</th>\n",
       "      <th>Material Number</th>\n",
       "      <th>Qty_Receipted_BUOM</th>\n",
       "      <th>Not_CSR_Item</th>\n",
       "      <th>Direct_Purchasing</th>\n",
       "    </tr>\n",
       "  </thead>\n",
       "  <tbody>\n",
       "    <tr>\n",
       "      <th>35</th>\n",
       "      <td>4301823896</td>\n",
       "      <td>Apron</td>\n",
       "      <td>Caboolture Hospital:Cater Servs Blk</td>\n",
       "      <td>SEQDC:HHS</td>\n",
       "      <td>D. DEMAND SEQDC</td>\n",
       "      <td>10015125</td>\n",
       "      <td>1000.0</td>\n",
       "      <td>False</td>\n",
       "      <td>False</td>\n",
       "    </tr>\n",
       "    <tr>\n",
       "      <th>36</th>\n",
       "      <td>4301825493</td>\n",
       "      <td>Apron</td>\n",
       "      <td>Sunshine Coast University Hosp:Endo/02ENDO15</td>\n",
       "      <td>SEQDC:HHS</td>\n",
       "      <td>D. DEMAND SEQDC</td>\n",
       "      <td>10015125</td>\n",
       "      <td>100.0</td>\n",
       "      <td>False</td>\n",
       "      <td>False</td>\n",
       "    </tr>\n",
       "    <tr>\n",
       "      <th>37</th>\n",
       "      <td>4301825495</td>\n",
       "      <td>Apron</td>\n",
       "      <td>Sunshine Coast University Hosp:Ward 3A/03W6A080</td>\n",
       "      <td>SEQDC:HHS</td>\n",
       "      <td>D. DEMAND SEQDC</td>\n",
       "      <td>10015125</td>\n",
       "      <td>1000.0</td>\n",
       "      <td>False</td>\n",
       "      <td>False</td>\n",
       "    </tr>\n",
       "    <tr>\n",
       "      <th>38</th>\n",
       "      <td>4301825504</td>\n",
       "      <td>Apron</td>\n",
       "      <td>Sunshine Coast University Hosp:MH Adult</td>\n",
       "      <td>SEQDC:HHS</td>\n",
       "      <td>D. DEMAND SEQDC</td>\n",
       "      <td>10015125</td>\n",
       "      <td>400.0</td>\n",
       "      <td>False</td>\n",
       "      <td>False</td>\n",
       "    </tr>\n",
       "    <tr>\n",
       "      <th>39</th>\n",
       "      <td>4301825612</td>\n",
       "      <td>Apron</td>\n",
       "      <td>Caboolture Hospital:Paediatric Ward</td>\n",
       "      <td>SEQDC:HHS</td>\n",
       "      <td>D. DEMAND SEQDC</td>\n",
       "      <td>10015125</td>\n",
       "      <td>500.0</td>\n",
       "      <td>False</td>\n",
       "      <td>False</td>\n",
       "    </tr>\n",
       "    <tr>\n",
       "      <th>40</th>\n",
       "      <td>4301825616</td>\n",
       "      <td>Apron</td>\n",
       "      <td>Caboolture Hospital:Ward 3B Main Str</td>\n",
       "      <td>SEQDC:HHS</td>\n",
       "      <td>D. DEMAND SEQDC</td>\n",
       "      <td>10015125</td>\n",
       "      <td>1000.0</td>\n",
       "      <td>False</td>\n",
       "      <td>False</td>\n",
       "    </tr>\n",
       "    <tr>\n",
       "      <th>41</th>\n",
       "      <td>4301825617</td>\n",
       "      <td>Apron</td>\n",
       "      <td>Caboolture Hospital:Kilcoy Patn Serv</td>\n",
       "      <td>SEQDC:HHS</td>\n",
       "      <td>D. DEMAND SEQDC</td>\n",
       "      <td>10015125</td>\n",
       "      <td>500.0</td>\n",
       "      <td>False</td>\n",
       "      <td>False</td>\n",
       "    </tr>\n",
       "    <tr>\n",
       "      <th>42</th>\n",
       "      <td>4301825638</td>\n",
       "      <td>Apron</td>\n",
       "      <td>Redcliffe Hospital:CT Scanner Room</td>\n",
       "      <td>SEQDC:HHS</td>\n",
       "      <td>D. DEMAND SEQDC</td>\n",
       "      <td>10015125</td>\n",
       "      <td>100.0</td>\n",
       "      <td>False</td>\n",
       "      <td>False</td>\n",
       "    </tr>\n",
       "    <tr>\n",
       "      <th>43</th>\n",
       "      <td>4301825640</td>\n",
       "      <td>Apron</td>\n",
       "      <td>Redcliffe Hospital:Ward 6 West</td>\n",
       "      <td>SEQDC:HHS</td>\n",
       "      <td>D. DEMAND SEQDC</td>\n",
       "      <td>10015125</td>\n",
       "      <td>200.0</td>\n",
       "      <td>False</td>\n",
       "      <td>False</td>\n",
       "    </tr>\n",
       "    <tr>\n",
       "      <th>44</th>\n",
       "      <td>4301825641</td>\n",
       "      <td>Apron</td>\n",
       "      <td>Redcliffe Hospital:Ward 4 East</td>\n",
       "      <td>SEQDC:HHS</td>\n",
       "      <td>D. DEMAND SEQDC</td>\n",
       "      <td>10015125</td>\n",
       "      <td>400.0</td>\n",
       "      <td>False</td>\n",
       "      <td>False</td>\n",
       "    </tr>\n",
       "  </tbody>\n",
       "</table>\n",
       "</div>"
      ],
      "text/plain": [
       "     PO Number Subcategory                                         Receiver  \\\n",
       "35  4301823896       Apron              Caboolture Hospital:Cater Servs Blk   \n",
       "36  4301825493       Apron     Sunshine Coast University Hosp:Endo/02ENDO15   \n",
       "37  4301825495       Apron  Sunshine Coast University Hosp:Ward 3A/03W6A080   \n",
       "38  4301825504       Apron          Sunshine Coast University Hosp:MH Adult   \n",
       "39  4301825612       Apron              Caboolture Hospital:Paediatric Ward   \n",
       "40  4301825616       Apron             Caboolture Hospital:Ward 3B Main Str   \n",
       "41  4301825617       Apron             Caboolture Hospital:Kilcoy Patn Serv   \n",
       "42  4301825638       Apron               Redcliffe Hospital:CT Scanner Room   \n",
       "43  4301825640       Apron                   Redcliffe Hospital:Ward 6 West   \n",
       "44  4301825641       Apron                   Redcliffe Hospital:Ward 4 East   \n",
       "\n",
       "   Receiver_Lane       Order_Type  Material Number  Qty_Receipted_BUOM  \\\n",
       "35     SEQDC:HHS  D. DEMAND SEQDC         10015125              1000.0   \n",
       "36     SEQDC:HHS  D. DEMAND SEQDC         10015125               100.0   \n",
       "37     SEQDC:HHS  D. DEMAND SEQDC         10015125              1000.0   \n",
       "38     SEQDC:HHS  D. DEMAND SEQDC         10015125               400.0   \n",
       "39     SEQDC:HHS  D. DEMAND SEQDC         10015125               500.0   \n",
       "40     SEQDC:HHS  D. DEMAND SEQDC         10015125              1000.0   \n",
       "41     SEQDC:HHS  D. DEMAND SEQDC         10015125               500.0   \n",
       "42     SEQDC:HHS  D. DEMAND SEQDC         10015125               100.0   \n",
       "43     SEQDC:HHS  D. DEMAND SEQDC         10015125               200.0   \n",
       "44     SEQDC:HHS  D. DEMAND SEQDC         10015125               400.0   \n",
       "\n",
       "    Not_CSR_Item  Direct_Purchasing  \n",
       "35         False              False  \n",
       "36         False              False  \n",
       "37         False              False  \n",
       "38         False              False  \n",
       "39         False              False  \n",
       "40         False              False  \n",
       "41         False              False  \n",
       "42         False              False  \n",
       "43         False              False  \n",
       "44         False              False  "
      ]
     },
     "execution_count": 125,
     "metadata": {},
     "output_type": "execute_result"
    }
   ],
   "source": [
    "POdatanotdp.head(10)"
   ]
  },
  {
   "cell_type": "code",
   "execution_count": null,
   "id": "d43bf69f-bc1d-4eb5-b502-1f071f74e159",
   "metadata": {},
   "outputs": [],
   "source": []
  },
  {
   "cell_type": "code",
   "execution_count": null,
   "id": "054ef58f-a1c2-40d4-8919-cc2e2a92464e",
   "metadata": {},
   "outputs": [],
   "source": []
  },
  {
   "cell_type": "code",
   "execution_count": null,
   "id": "09322e16-204c-4eaa-9dd8-613af36a8471",
   "metadata": {},
   "outputs": [],
   "source": []
  },
  {
   "cell_type": "code",
   "execution_count": null,
   "id": "7cb9f749-72ca-4559-a736-2ed1722d2fc2",
   "metadata": {},
   "outputs": [],
   "source": []
  }
 ],
 "metadata": {
  "kernelspec": {
   "display_name": "Python 3 (ipykernel)",
   "language": "python",
   "name": "python3"
  },
  "language_info": {
   "codemirror_mode": {
    "name": "ipython",
    "version": 3
   },
   "file_extension": ".py",
   "mimetype": "text/x-python",
   "name": "python",
   "nbconvert_exporter": "python",
   "pygments_lexer": "ipython3",
   "version": "3.9.13"
  }
 },
 "nbformat": 4,
 "nbformat_minor": 5
}
